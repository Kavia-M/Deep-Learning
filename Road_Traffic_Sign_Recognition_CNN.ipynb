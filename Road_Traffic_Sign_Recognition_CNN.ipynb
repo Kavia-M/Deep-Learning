{
  "nbformat": 4,
  "nbformat_minor": 0,
  "metadata": {
    "colab": {
      "name": "Road Traffic Sign Recognition CNN.ipynb",
      "provenance": [],
      "mount_file_id": "1oEkDkX4PqO4V5Wad0ShMyNH1k2f3Vi1W",
      "authorship_tag": "ABX9TyPcpVdFJUeUoKb6icj9o8UJ",
      "include_colab_link": true
    },
    "kernelspec": {
      "name": "python3",
      "display_name": "Python 3"
    },
    "language_info": {
      "name": "python"
    }
  },
  "cells": [
    {
      "cell_type": "markdown",
      "metadata": {
        "id": "view-in-github",
        "colab_type": "text"
      },
      "source": [
        "<a href=\"https://colab.research.google.com/github/Kavia-M/Deep-Learning/blob/main/Road_Traffic_Sign_Recognition_CNN.ipynb\" target=\"_parent\"><img src=\"https://colab.research.google.com/assets/colab-badge.svg\" alt=\"Open In Colab\"/></a>"
      ]
    },
    {
      "cell_type": "code",
      "metadata": {
        "id": "dmQOs0_IwGsj"
      },
      "source": [
        "import numpy as np # linear algebra\n",
        "import pandas as pd # data processing, CSV file I/O (e.g. pd.read_csv)\n",
        "import pickle\n",
        "import matplotlib.pyplot as plt\n",
        "from math import sqrt, ceil\n",
        "from timeit import default_timer as timer\n",
        "\n",
        "from keras.utils.np_utils import to_categorical\n",
        "from keras.models import Sequential\n",
        "from keras.layers import Dense, Dropout, Flatten, Conv2D, MaxPool2D, AvgPool2D, BatchNormalization, MaxPooling2D, AveragePooling2D, Reshape\n",
        "from keras.preprocessing.image import ImageDataGenerator\n",
        "from keras.callbacks import LearningRateScheduler"
      ],
      "execution_count": null,
      "outputs": []
    },
    {
      "cell_type": "code",
      "metadata": {
        "id": "J2GNP0aNCGXs"
      },
      "source": [
        "from keras import regularizers\n",
        "from keras.regularizers import l2,l1"
      ],
      "execution_count": null,
      "outputs": []
    },
    {
      "cell_type": "markdown",
      "metadata": {
        "id": "kW6XtHk93M0R"
      },
      "source": [
        "## Importing dataset"
      ]
    },
    {
      "cell_type": "code",
      "metadata": {
        "id": "116hvyuFzblw"
      },
      "source": [
        "import io\n",
        "with open('/content/drive/MyDrive/CNN datasets/data0.pickle', 'rb') as f:\n",
        "    data = pickle.load(f, encoding='latin1')\n"
      ],
      "execution_count": null,
      "outputs": []
    },
    {
      "cell_type": "code",
      "metadata": {
        "id": "t8Wp5eqjRf7g"
      },
      "source": [
        "with open('/content/drive/MyDrive/CNN datasets/labels.pickle', 'rb') as fl:\n",
        "    data_labels = pickle.load(fl, encoding='latin1')"
      ],
      "execution_count": null,
      "outputs": []
    },
    {
      "cell_type": "code",
      "metadata": {
        "colab": {
          "base_uri": "https://localhost:8080/"
        },
        "id": "ifSTLX8S4Au1",
        "outputId": "d2c81ce5-df5c-41ba-f150-ef5951bbd30c"
      },
      "source": [
        "for i, j in data.items():\n",
        "    if i == 'labels':\n",
        "        print(i + ':', len(j))\n",
        "    else: \n",
        "        print(i + ':', j.shape)"
      ],
      "execution_count": null,
      "outputs": [
        {
          "output_type": "stream",
          "text": [
            "x_test: (12630, 3, 32, 32)\n",
            "y_validation: (4410,)\n",
            "x_validation: (4410, 3, 32, 32)\n",
            "labels: 43\n",
            "x_train: (86989, 3, 32, 32)\n",
            "y_test: (12630,)\n",
            "y_train: (86989,)\n"
          ],
          "name": "stdout"
        }
      ]
    },
    {
      "cell_type": "code",
      "metadata": {
        "colab": {
          "base_uri": "https://localhost:8080/"
        },
        "id": "JSPVQ9495Lb4",
        "outputId": "799fea7a-24c4-4371-dd8f-a1332a49bf80"
      },
      "source": [
        "print(type(data['y_train']))"
      ],
      "execution_count": null,
      "outputs": [
        {
          "output_type": "stream",
          "text": [
            "<class 'numpy.ndarray'>\n"
          ],
          "name": "stdout"
        }
      ]
    },
    {
      "cell_type": "markdown",
      "metadata": {
        "id": "RKcmahdm3WRA"
      },
      "source": [
        "# Preprocessing"
      ]
    },
    {
      "cell_type": "markdown",
      "metadata": {
        "id": "dX37QuuJ6TQ3"
      },
      "source": [
        "#### converting the data tensors into channel last form"
      ]
    },
    {
      "cell_type": "code",
      "metadata": {
        "id": "SqtiS5o65_iL"
      },
      "source": [
        "data['x_train'] = data['x_train'].transpose(0, 2, 3, 1)\n",
        "data['x_validation'] = data['x_validation'].transpose(0, 2, 3, 1)\n",
        "data['x_test'] = data['x_test'].transpose(0, 2, 3, 1)"
      ],
      "execution_count": null,
      "outputs": []
    },
    {
      "cell_type": "code",
      "metadata": {
        "id": "kD7YyoRW6f4t"
      },
      "source": [
        "train_images = data['x_train']\n",
        "test_images = data['x_test']\n",
        "train_labels = data['y_train']\n",
        "test_labels = data['y_test']\n",
        "validation_images = data['x_validation']\n",
        "validation_labels = data['y_validation']"
      ],
      "execution_count": null,
      "outputs": []
    },
    {
      "cell_type": "code",
      "metadata": {
        "colab": {
          "base_uri": "https://localhost:8080/"
        },
        "id": "8fbC6p79mfp_",
        "outputId": "8f17b114-5c5a-4b86-9d5d-2108e7953c57"
      },
      "source": [
        "classes = np.unique(train_labels)   #use this to find the diffent classes in train data so that we can use same number of neurons in softmax layer\n",
        "nClasses = len(classes)\n",
        "\n",
        "print('Total number of outputs : ', nClasses)\n",
        "print('Output classes : ', classes)\n"
      ],
      "execution_count": null,
      "outputs": [
        {
          "output_type": "stream",
          "text": [
            "Total number of outputs :  43\n",
            "Output classes :  [ 0  1  2  3  4  5  6  7  8  9 10 11 12 13 14 15 16 17 18 19 20 21 22 23\n",
            " 24 25 26 27 28 29 30 31 32 33 34 35 36 37 38 39 40 41 42]\n"
          ],
          "name": "stdout"
        }
      ]
    },
    {
      "cell_type": "markdown",
      "metadata": {
        "id": "5Wai779Z7fx4"
      },
      "source": [
        "The label values are "
      ]
    },
    {
      "cell_type": "code",
      "metadata": {
        "colab": {
          "base_uri": "https://localhost:8080/"
        },
        "id": "Rh0ZS7kb7NqT",
        "outputId": "2e4374fb-03d8-402b-e4b0-bf9a119b7115"
      },
      "source": [
        "print(data_labels)"
      ],
      "execution_count": null,
      "outputs": [
        {
          "output_type": "stream",
          "text": [
            "['Speed limit (20km/h)', 'Speed limit (30km/h)', 'Speed limit (50km/h)', 'Speed limit (60km/h)', 'Speed limit (70km/h)', 'Speed limit (80km/h)', 'End of speed limit (80km/h)', 'Speed limit (100km/h)', 'Speed limit (120km/h)', 'No passing', 'No passing for vehicles over 3.5 metric tons', 'Right-of-way at the next intersection', 'Priority road', 'Yield', 'Stop', 'No vehicles', 'Vehicles over 3.5 metric tons prohibited', 'No entry', 'General caution', 'Dangerous curve to the left', 'Dangerous curve to the right', 'Double curve', 'Bumpy road', 'Slippery road', 'Road narrows on the right', 'Road work', 'Traffic signals', 'Pedestrians', 'Children crossing', 'Bicycles crossing', 'Beware of ice/snow', 'Wild animals crossing', 'End of all speed and passing limits', 'Turn right ahead', 'Turn left ahead', 'Ahead only', 'Go straight or right', 'Go straight or left', 'Keep right', 'Keep left', 'Roundabout mandatory', 'End of no passing', 'End of no passing by vehicles over 3.5 metric tons']\n"
          ],
          "name": "stdout"
        }
      ]
    },
    {
      "cell_type": "code",
      "metadata": {
        "colab": {
          "base_uri": "https://localhost:8080/"
        },
        "id": "Yi3itZzz7qzm",
        "outputId": "761cef42-0e17-487f-d2a6-577e4f49beb0"
      },
      "source": [
        "data_labels"
      ],
      "execution_count": null,
      "outputs": [
        {
          "output_type": "execute_result",
          "data": {
            "text/plain": [
              "['Speed limit (20km/h)',\n",
              " 'Speed limit (30km/h)',\n",
              " 'Speed limit (50km/h)',\n",
              " 'Speed limit (60km/h)',\n",
              " 'Speed limit (70km/h)',\n",
              " 'Speed limit (80km/h)',\n",
              " 'End of speed limit (80km/h)',\n",
              " 'Speed limit (100km/h)',\n",
              " 'Speed limit (120km/h)',\n",
              " 'No passing',\n",
              " 'No passing for vehicles over 3.5 metric tons',\n",
              " 'Right-of-way at the next intersection',\n",
              " 'Priority road',\n",
              " 'Yield',\n",
              " 'Stop',\n",
              " 'No vehicles',\n",
              " 'Vehicles over 3.5 metric tons prohibited',\n",
              " 'No entry',\n",
              " 'General caution',\n",
              " 'Dangerous curve to the left',\n",
              " 'Dangerous curve to the right',\n",
              " 'Double curve',\n",
              " 'Bumpy road',\n",
              " 'Slippery road',\n",
              " 'Road narrows on the right',\n",
              " 'Road work',\n",
              " 'Traffic signals',\n",
              " 'Pedestrians',\n",
              " 'Children crossing',\n",
              " 'Bicycles crossing',\n",
              " 'Beware of ice/snow',\n",
              " 'Wild animals crossing',\n",
              " 'End of all speed and passing limits',\n",
              " 'Turn right ahead',\n",
              " 'Turn left ahead',\n",
              " 'Ahead only',\n",
              " 'Go straight or right',\n",
              " 'Go straight or left',\n",
              " 'Keep right',\n",
              " 'Keep left',\n",
              " 'Roundabout mandatory',\n",
              " 'End of no passing',\n",
              " 'End of no passing by vehicles over 3.5 metric tons']"
            ]
          },
          "metadata": {
            "tags": []
          },
          "execution_count": 11
        }
      ]
    },
    {
      "cell_type": "markdown",
      "metadata": {
        "id": "W_C9J-wZ74ZT"
      },
      "source": [
        "**Viewing some sample pictures and correspoinding labels**"
      ]
    },
    {
      "cell_type": "code",
      "metadata": {
        "colab": {
          "base_uri": "https://localhost:8080/"
        },
        "id": "xPQrb4nHntY5",
        "outputId": "897ebaf0-24c6-4b22-a248-848f4279c08a"
      },
      "source": [
        "nRows, nCols, nDims = train_images.shape[1:] \n",
        "train_data = train_images.reshape(train_images.shape[0], nRows, nCols, nDims) \n",
        "test_data = test_images.reshape(test_images.shape[0], nRows, nCols, nDims)\n",
        "validation_data = validation_images.reshape(validation_images.shape[0], nRows, nCols, nDims)\n",
        "input_shape = (nRows, nCols, nDims)\n",
        "\n",
        "train_data = train_data.astype('float32')\n",
        "test_data = test_data.astype('float32')\n",
        "validation_data = validation_data.astype('float32')\n",
        "\n",
        "train_data /= 255   # data to range of 0 to 1\n",
        "test_data /=255\n",
        "validation_data /=255\n",
        "\n",
        "train_labels_one_hot = to_categorical(train_labels) # very important...one hot matrix has 10 cells, if categor is 6 ..index 6 element is 1 and others are 0\n",
        "validation_labels_one_hot = to_categorical(validation_labels)\n",
        "test_labels_one_hot = to_categorical(test_labels)\n",
        "\n",
        "print('Original label 0 : ', train_labels[0])\n",
        "print('After convertion to categorical (one hot) : ', train_labels_one_hot[0])"
      ],
      "execution_count": null,
      "outputs": [
        {
          "output_type": "stream",
          "text": [
            "Original label 0 :  37\n",
            "After convertion to categorical (one hot) :  [0. 0. 0. 0. 0. 0. 0. 0. 0. 0. 0. 0. 0. 0. 0. 0. 0. 0. 0. 0. 0. 0. 0. 0.\n",
            " 0. 0. 0. 0. 0. 0. 0. 0. 0. 0. 0. 0. 0. 1. 0. 0. 0. 0. 0.]\n"
          ],
          "name": "stdout"
        }
      ]
    },
    {
      "cell_type": "code",
      "metadata": {
        "colab": {
          "base_uri": "https://localhost:8080/"
        },
        "id": "iYdWXkiNFZoG",
        "outputId": "bbc1c03e-9628-4bcf-fe12-77a13b4c4708"
      },
      "source": [
        "input_shape"
      ],
      "execution_count": null,
      "outputs": [
        {
          "output_type": "execute_result",
          "data": {
            "text/plain": [
              "(32, 32, 3)"
            ]
          },
          "metadata": {
            "tags": []
          },
          "execution_count": 23
        }
      ]
    },
    {
      "cell_type": "markdown",
      "metadata": {
        "id": "9Vyok74lCUpM"
      },
      "source": [
        "# Buiding and compilation"
      ]
    },
    {
      "cell_type": "markdown",
      "metadata": {
        "id": "feavjN3CsEqD"
      },
      "source": [
        "### Define CNN model - Building the model"
      ]
    },
    {
      "cell_type": "code",
      "metadata": {
        "id": "JlCXb_h7sZOg"
      },
      "source": [
        "# first 2 layers with 32 filters of window size 3x3\n",
        "model=Sequential()\n",
        "model.add(Conv2D(32, (3,3), padding='same', activation='relu', input_shape=input_shape)) #32 channels 3x3 kernel size\n",
        "model.add(MaxPooling2D(pool_size=(2,2)))\n",
        "\n",
        "model.add(Conv2D(32, (3,3), padding='same', activation='relu')) #one more convolutional layer with 64 channels\n",
        "model.add(AveragePooling2D(pool_size=(2,2)))\n",
        "model.add(Dropout(0.2)) #dropout layer\n",
        "\n",
        "model.add(Conv2D(64, (3,3), padding='same', activation='relu')) #one more convolutional layer with 64 channels\n",
        "model.add(MaxPooling2D(pool_size=(2,2)))\n",
        "model.add(Dropout(0.25)) #dropout layer\n",
        "\n",
        "model.add(Flatten())\n",
        "model.add(Dense(512, activation='relu', kernel_regularizer=regularizers.l2(0.015))) #FULLY connected layer with l2 regularization\n",
        "model.add(Dropout(0.5)) #regularization only 50% takes place in classification decision\n",
        "model.add(Dense(128, activation='relu', kernel_regularizer=regularizers.l2(0.015)))\n",
        "model.add(Dense(nClasses, activation='softmax')) #output layer with softmax activation...number of neurons is nClasses "
      ],
      "execution_count": null,
      "outputs": []
    },
    {
      "cell_type": "markdown",
      "metadata": {
        "id": "4eYJq3ksClTi"
      },
      "source": [
        "### Compilation"
      ]
    },
    {
      "cell_type": "code",
      "metadata": {
        "id": "g-BS8aIU9cB-"
      },
      "source": [
        "model.compile(optimizer='adam', loss='categorical_crossentropy', metrics=['accuracy']) "
      ],
      "execution_count": null,
      "outputs": []
    },
    {
      "cell_type": "markdown",
      "metadata": {
        "id": "8BljMySRCow2"
      },
      "source": [
        "### Model Summary"
      ]
    },
    {
      "cell_type": "code",
      "metadata": {
        "colab": {
          "base_uri": "https://localhost:8080/"
        },
        "id": "QAQP4ZexIu0z",
        "outputId": "5254e2be-c0d5-48ff-8ee2-5e2c6da8a4eb"
      },
      "source": [
        "model.summary()"
      ],
      "execution_count": null,
      "outputs": [
        {
          "output_type": "stream",
          "text": [
            "Model: \"sequential_6\"\n",
            "_________________________________________________________________\n",
            "Layer (type)                 Output Shape              Param #   \n",
            "=================================================================\n",
            "conv2d_6 (Conv2D)            (None, 32, 32, 32)        896       \n",
            "_________________________________________________________________\n",
            "max_pooling2d_1 (MaxPooling2 (None, 16, 16, 32)        0         \n",
            "_________________________________________________________________\n",
            "conv2d_7 (Conv2D)            (None, 16, 16, 32)        9248      \n",
            "_________________________________________________________________\n",
            "average_pooling2d (AveragePo (None, 8, 8, 32)          0         \n",
            "_________________________________________________________________\n",
            "dropout (Dropout)            (None, 8, 8, 32)          0         \n",
            "_________________________________________________________________\n",
            "conv2d_8 (Conv2D)            (None, 8, 8, 64)          18496     \n",
            "_________________________________________________________________\n",
            "max_pooling2d_2 (MaxPooling2 (None, 4, 4, 64)          0         \n",
            "_________________________________________________________________\n",
            "dropout_1 (Dropout)          (None, 4, 4, 64)          0         \n",
            "_________________________________________________________________\n",
            "flatten (Flatten)            (None, 1024)              0         \n",
            "_________________________________________________________________\n",
            "dense (Dense)                (None, 512)               524800    \n",
            "_________________________________________________________________\n",
            "dropout_2 (Dropout)          (None, 512)               0         \n",
            "_________________________________________________________________\n",
            "dense_1 (Dense)              (None, 128)               65664     \n",
            "_________________________________________________________________\n",
            "dense_2 (Dense)              (None, 43)                5547      \n",
            "=================================================================\n",
            "Total params: 624,651\n",
            "Trainable params: 624,651\n",
            "Non-trainable params: 0\n",
            "_________________________________________________________________\n"
          ],
          "name": "stdout"
        }
      ]
    },
    {
      "cell_type": "markdown",
      "metadata": {
        "id": "Mka9Rr4lC6VY"
      },
      "source": [
        "# Training and Testing"
      ]
    },
    {
      "cell_type": "code",
      "metadata": {
        "id": "YiVZiuR8IyPN"
      },
      "source": [
        "batch_size = 128\n",
        "epochs = 10"
      ],
      "execution_count": null,
      "outputs": []
    },
    {
      "cell_type": "code",
      "metadata": {
        "colab": {
          "base_uri": "https://localhost:8080/"
        },
        "id": "BIwzePNwJVkN",
        "outputId": "311a4d8c-c3f1-413d-cfc1-20da9b74cc0d"
      },
      "source": [
        "history = model.fit(train_data, train_labels_one_hot, batch_size=batch_size, epochs=epochs, verbose=1,  \n",
        "                    validation_data=(validation_data, validation_labels_one_hot))  \n",
        "model.evaluate(test_data, test_labels_one_hot)  #testing"
      ],
      "execution_count": null,
      "outputs": [
        {
          "output_type": "stream",
          "text": [
            "Epoch 1/10\n",
            "680/680 [==============================] - 130s 190ms/step - loss: 4.8703 - accuracy: 0.1299 - val_loss: 2.2135 - val_accuracy: 0.3710\n",
            "Epoch 2/10\n",
            "680/680 [==============================] - 132s 194ms/step - loss: 2.0825 - accuracy: 0.4477 - val_loss: 1.6058 - val_accuracy: 0.6100\n",
            "Epoch 3/10\n",
            "680/680 [==============================] - 132s 194ms/step - loss: 1.5834 - accuracy: 0.6376 - val_loss: 1.3015 - val_accuracy: 0.7558\n",
            "Epoch 4/10\n",
            "680/680 [==============================] - 130s 191ms/step - loss: 1.3046 - accuracy: 0.7258 - val_loss: 1.1638 - val_accuracy: 0.8088\n",
            "Epoch 5/10\n",
            "680/680 [==============================] - 129s 189ms/step - loss: 1.1296 - accuracy: 0.7801 - val_loss: 1.0384 - val_accuracy: 0.8533\n",
            "Epoch 6/10\n",
            "680/680 [==============================] - 128s 188ms/step - loss: 1.0162 - accuracy: 0.8122 - val_loss: 0.9630 - val_accuracy: 0.8501\n",
            "Epoch 7/10\n",
            "680/680 [==============================] - 128s 189ms/step - loss: 0.9413 - accuracy: 0.8319 - val_loss: 0.8372 - val_accuracy: 0.8821\n",
            "Epoch 8/10\n",
            "680/680 [==============================] - 130s 191ms/step - loss: 0.8833 - accuracy: 0.8467 - val_loss: 0.7460 - val_accuracy: 0.9014\n",
            "Epoch 9/10\n",
            "680/680 [==============================] - 130s 191ms/step - loss: 0.8380 - accuracy: 0.8599 - val_loss: 0.6746 - val_accuracy: 0.9229\n",
            "Epoch 10/10\n",
            "680/680 [==============================] - 129s 190ms/step - loss: 0.7898 - accuracy: 0.8711 - val_loss: 0.7297 - val_accuracy: 0.8980\n",
            "395/395 [==============================] - 7s 19ms/step - loss: 0.8235 - accuracy: 0.8756\n"
          ],
          "name": "stdout"
        },
        {
          "output_type": "execute_result",
          "data": {
            "text/plain": [
              "[0.823520839214325, 0.8756136298179626]"
            ]
          },
          "metadata": {
            "tags": []
          },
          "execution_count": 33
        }
      ]
    },
    {
      "cell_type": "markdown",
      "metadata": {
        "id": "lqw_Br0dPgzl"
      },
      "source": [
        "Accuracy 87.56%\n",
        "\n"
      ]
    },
    {
      "cell_type": "markdown",
      "metadata": {
        "id": "VdqGr9N_DEH4"
      },
      "source": [
        "# Visulaization of results"
      ]
    },
    {
      "cell_type": "code",
      "metadata": {
        "colab": {
          "base_uri": "https://localhost:8080/",
          "height": 295
        },
        "id": "ElK1EaR5KfY0",
        "outputId": "7552f89b-4184-47cf-f65f-51838da9ebb8"
      },
      "source": [
        "plt.plot(history.history['accuracy'])\n",
        "plt.plot(history.history['val_accuracy'])\n",
        "plt.title('Model accuracy')\n",
        "plt.ylabel('Accuracy')\n",
        "plt.xlabel('epoch')\n",
        "plt.legend(['train','validation'],loc='upper left')\n",
        "plt.show()"
      ],
      "execution_count": null,
      "outputs": [
        {
          "output_type": "display_data",
          "data": {
            "image/png": "[encoded data removed]",
            "text/plain": [
              "<Figure size 432x288 with 1 Axes>"
            ]
          },
          "metadata": {
            "tags": [],
            "needs_background": "light"
          }
        }
      ]
    },
    {
      "cell_type": "markdown",
      "metadata": {
        "id": "wPauc59SQHH6"
      },
      "source": [
        "*we can see that our model is a best-fit*"
      ]
    },
    {
      "cell_type": "code",
      "metadata": {
        "id": "D5JILl2GQcNt"
      },
      "source": [
        "prediction=model.predict(test_data)"
      ],
      "execution_count": null,
      "outputs": []
    },
    {
      "cell_type": "code",
      "metadata": {
        "colab": {
          "base_uri": "https://localhost:8080/",
          "height": 594
        },
        "id": "8sZBBg717ubl",
        "outputId": "a5d5c6a6-7b64-465e-bb99-3ed7bbe37ba4"
      },
      "source": [
        "%matplotlib inline\n",
        "# Preparing function for ploting set of examples\n",
        "# As input it will take 4D tensor and convert it to the grid\n",
        "# Values will be scaled to the range [0, 255]\n",
        "def convert_to_grid(x_input):\n",
        "    N, H, W, C = x_input.shape\n",
        "    grid_size = int(ceil(sqrt(N)))\n",
        "    grid_height = H * grid_size + 1 * (grid_size - 1)\n",
        "    grid_width = W * grid_size + 1 * (grid_size - 1)\n",
        "    grid = np.zeros((grid_height, grid_width, C)) + 255\n",
        "    next_idx = 0\n",
        "    y0, y1 = 0, H\n",
        "    for y in range(grid_size):\n",
        "        x0, x1 = 0, W\n",
        "        for x in range(grid_size):\n",
        "            if next_idx < N:\n",
        "                img = x_input[next_idx]\n",
        "                low, high = np.min(img), np.max(img)\n",
        "                grid[y0:y1, x0:x1] = 255.0 * (img - low) / (high - low)\n",
        "                next_idx += 1\n",
        "            x0 += W + 1\n",
        "            x1 += W + 1\n",
        "        y0 += H + 1\n",
        "        y1 += H + 1\n",
        "\n",
        "    return grid\n",
        "examples = data['x_train'][78:83, :, :, :]\n",
        "\n",
        "fig = plt.figure()\n",
        "grid = convert_to_grid(examples)\n",
        "plt.imshow(grid.astype('uint8'), cmap='gray')\n",
        "plt.axis('off')\n",
        "plt.gcf().set_size_inches(10, 10)\n",
        "plt.title('Some examples of training data', fontsize=18)\n",
        "\n",
        "plt.show()\n",
        "\n",
        "# Saving the plot\n",
        "fig.savefig('training_examples.png')\n",
        "plt.close()"
      ],
      "execution_count": null,
      "outputs": [
        {
          "output_type": "display_data",
          "data": {
            "image/png": "[encoded data removed]",
            "text/plain": [
              "<Figure size 720x720 with 1 Axes>"
            ]
          },
          "metadata": {
            "tags": [],
            "needs_background": "light"
          }
        }
      ]
    },
    {
      "cell_type": "markdown",
      "metadata": {
        "id": "pUKAvCDJ9CXG"
      },
      "source": [
        "Their corresponding labels are"
      ]
    },
    {
      "cell_type": "code",
      "metadata": {
        "colab": {
          "base_uri": "https://localhost:8080/"
        },
        "id": "vW0tOybV8_Ss",
        "outputId": "311afee5-0a17-4f87-f941-1abe54d1df17"
      },
      "source": [
        "sample = data['y_train'][78:83]\n",
        "for y in sample :\n",
        "    print(y, \"---->\", data_labels[y])"
      ],
      "execution_count": null,
      "outputs": [
        {
          "output_type": "stream",
          "text": [
            "37 ----> Go straight or left\n",
            "23 ----> Slippery road\n",
            "11 ----> Right-of-way at the next intersection\n",
            "1 ----> Speed limit (30km/h)\n",
            "38 ----> Keep right\n"
          ],
          "name": "stdout"
        }
      ]
    },
    {
      "cell_type": "code",
      "metadata": {
        "colab": {
          "base_uri": "https://localhost:8080/",
          "height": 594
        },
        "id": "cGViFgo0QkMi",
        "outputId": "84ab5103-fae2-41ef-cb40-167a58b8f774"
      },
      "source": [
        "examples1 = data['x_test'][50:55, :, :, :]\n",
        "\n",
        "fig = plt.figure()\n",
        "grid = convert_to_grid(examples1)\n",
        "plt.imshow(grid.astype('uint8'), cmap='gray')\n",
        "plt.axis('off')\n",
        "plt.gcf().set_size_inches(10, 10)\n",
        "plt.title('Some examples of test data', fontsize=18)\n",
        "\n",
        "plt.show()\n",
        "\n",
        "fig.savefig('testing_examples.png')\n",
        "plt.close()"
      ],
      "execution_count": null,
      "outputs": [
        {
          "output_type": "display_data",
          "data": {
            "image/png": "[encoded data removed]",
            "text/plain": [
              "<Figure size 720x720 with 1 Axes>"
            ]
          },
          "metadata": {
            "tags": [],
            "needs_background": "light"
          }
        }
      ]
    },
    {
      "cell_type": "code",
      "metadata": {
        "colab": {
          "base_uri": "https://localhost:8080/"
        },
        "id": "7824aAyLRCHR",
        "outputId": "ba93088f-af3b-485d-871d-c2be980b11e3"
      },
      "source": [
        "sample_test = data['y_test'][50:55]\n",
        "sample_prediction = prediction[50:55]\n",
        "for (y, yp) in zip(sample_test, sample_prediction) :\n",
        "    print(\"Expected \", y, \"---->\", data_labels[y], \"===========\", \"Predicted \", np.argmax(yp), \"---->\", data_labels[np.argmax(yp)])"
      ],
      "execution_count": null,
      "outputs": [
        {
          "output_type": "stream",
          "text": [
            "Expected  28 ----> Children crossing =========== Predicted  28 ----> Children crossing\n",
            "Expected  11 ----> Right-of-way at the next intersection =========== Predicted  11 ----> Right-of-way at the next intersection\n",
            "Expected  2 ----> Speed limit (50km/h) =========== Predicted  4 ----> Speed limit (70km/h)\n",
            "Expected  12 ----> Priority road =========== Predicted  12 ----> Priority road\n",
            "Expected  7 ----> Speed limit (100km/h) =========== Predicted  7 ----> Speed limit (100km/h)\n"
          ],
          "name": "stdout"
        }
      ]
    },
    {
      "cell_type": "code",
      "metadata": {
        "id": "D_8va3qrSY75"
      },
      "source": [
        "model.save('traffic.h5')"
      ],
      "execution_count": null,
      "outputs": []
    },
    {
      "cell_type": "code",
      "metadata": {
        "id": "Qus-rTpKeWt6"
      },
      "source": [
        ""
      ],
      "execution_count": null,
      "outputs": []
    }
  ]
}