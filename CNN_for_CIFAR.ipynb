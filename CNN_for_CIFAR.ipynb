{
  "nbformat": 4,
  "nbformat_minor": 0,
  "metadata": {
    "colab": {
      "name": "CNN for CIFAR.ipynb",
      "provenance": [],
      "authorship_tag": "ABX9TyNayCd49Ojf/eDHgFJ/6wSc",
      "include_colab_link": true
    },
    "kernelspec": {
      "name": "python3",
      "display_name": "Python 3"
    },
    "language_info": {
      "name": "python"
    }
  },
  "cells": [
    {
      "cell_type": "markdown",
      "metadata": {
        "id": "view-in-github",
        "colab_type": "text"
      },
      "source": [
        "<a href=\"https://colab.research.google.com/github/Kavia-M/Deep-Learning/blob/main/CNN_for_CIFAR.ipynb\" target=\"_parent\"><img src=\"https://colab.research.google.com/assets/colab-badge.svg\" alt=\"Open In Colab\"/></a>"
      ]
    },
    {
      "cell_type": "code",
      "metadata": {
        "id": "bXbdr-LvlTk7"
      },
      "source": [
        "from __future__ import print_function\n",
        "import numpy as np\n",
        "import pandas as pd\n",
        "import matplotlib.pyplot as plt\n",
        "import keras\n",
        "from keras.models import Sequential\n",
        "from keras.utils import to_categorical\n",
        "from keras.layers import Dense, Conv2D, MaxPooling2D, Dropout, Flatten"
      ],
      "execution_count": 1,
      "outputs": []
    },
    {
      "cell_type": "markdown",
      "metadata": {
        "id": "0kL7L6uxll2G"
      },
      "source": [
        "# Load dataset CIFAR10"
      ]
    },
    {
      "cell_type": "code",
      "metadata": {
        "colab": {
          "base_uri": "https://localhost:8080/"
        },
        "id": "P__c-zFelqj4",
        "outputId": "92481fe9-5bec-47a8-a88f-c9c549f3bd32"
      },
      "source": [
        "from keras.datasets import cifar10\n",
        "(train_images, train_labels), (test_images, test_labels) = cifar10.load_data()"
      ],
      "execution_count": 2,
      "outputs": [
        {
          "output_type": "stream",
          "text": [
            "Downloading data from https://www.cs.toronto.edu/~kriz/cifar-10-python.tar.gz\n",
            "170500096/170498071 [==============================] - 3s 0us/step\n"
          ],
          "name": "stdout"
        }
      ]
    },
    {
      "cell_type": "code",
      "metadata": {
        "colab": {
          "base_uri": "https://localhost:8080/"
        },
        "id": "ocPKo0C-mJzL",
        "outputId": "3acbfb80-0963-4a70-cb89-1d07d597086c"
      },
      "source": [
        "print('Train data shape', train_images.shape , train_labels.shape)\n",
        "print('Test data shape', test_images.shape, test_labels.shape)"
      ],
      "execution_count": 3,
      "outputs": [
        {
          "output_type": "stream",
          "text": [
            "Train data shape (50000, 32, 32, 3) (50000, 1)\n",
            "Test data shape (10000, 32, 32, 3) (10000, 1)\n"
          ],
          "name": "stdout"
        }
      ]
    },
    {
      "cell_type": "markdown",
      "metadata": {
        "id": "EU4YpfZTmk3L"
      },
      "source": [
        "size of each data is 32 * 32 * 3 (3 means color image)"
      ]
    },
    {
      "cell_type": "code",
      "metadata": {
        "colab": {
          "base_uri": "https://localhost:8080/",
          "height": 85
        },
        "id": "8fbC6p79mfp_",
        "outputId": "03a0d0e0-8bac-4de7-9465-64873aceda27"
      },
      "source": [
        "classes = np.unique(train_labels)   #use this to find the diffent classes in train data so that we can use same number of neurons in softmax layer\n",
        "nClasses = len(classes)\n",
        "\n",
        "print('Total number of outputs : ', nClasses)\n",
        "print('Output classes : ', classes)\n",
        "\n",
        "plt.figure(figsize=[4,2])"
      ],
      "execution_count": 4,
      "outputs": [
        {
          "output_type": "stream",
          "text": [
            "Total number of outputs :  10\n",
            "Output classes :  [0 1 2 3 4 5 6 7 8 9]\n"
          ],
          "name": "stdout"
        },
        {
          "output_type": "execute_result",
          "data": {
            "text/plain": [
              "<Figure size 288x144 with 0 Axes>"
            ]
          },
          "metadata": {
            "tags": []
          },
          "execution_count": 4
        },
        {
          "output_type": "display_data",
          "data": {
            "text/plain": [
              "<Figure size 288x144 with 0 Axes>"
            ]
          },
          "metadata": {
            "tags": []
          }
        }
      ]
    },
    {
      "cell_type": "markdown",
      "metadata": {
        "id": "b8c9a4nrnzUj"
      },
      "source": [
        "# Preproceess data"
      ]
    },
    {
      "cell_type": "code",
      "metadata": {
        "colab": {
          "base_uri": "https://localhost:8080/"
        },
        "id": "xPQrb4nHntY5",
        "outputId": "903ddf6a-29cb-4e14-83bb-5e562f97c6e7"
      },
      "source": [
        "nRows, nCols, nDims = train_images.shape[1:] # (50000, 32 , 32, 3)--> we take from index 1 that is nRows =32, nCols =32, nDims=3\n",
        "train_data = train_images.reshape(train_images.shape[0], nRows, nCols, nDims) \n",
        "test_data = test_images.reshape(test_images.shape[0], nRows, nCols, nDims)\n",
        "input_shape = (nRows, nCols, nDims)\n",
        "\n",
        "train_data = train_data.astype('float32')\n",
        "test_data = test_data.astype('float32')\n",
        "\n",
        "train_data /= 255   # data to range of 0 to 1\n",
        "test_data /=255\n",
        "\n",
        "train_labels_one_hot = to_categorical(train_labels) # very important...one hot matrix has 10 cells, if categor is 6 ..index 6 element is 1 and others are 0\n",
        "test_labels_one_hot = to_categorical(test_labels)\n",
        "\n",
        "print('Original label 0 : ', train_labels[0])\n",
        "print('After convertion to categorical (one hot) : ', train_labels_one_hot[0])"
      ],
      "execution_count": 6,
      "outputs": [
        {
          "output_type": "stream",
          "text": [
            "Original label 0 :  [6]\n",
            "After convertion to categorical (one hot) :  [0. 0. 0. 0. 0. 0. 1. 0. 0. 0.]\n"
          ],
          "name": "stdout"
        }
      ]
    },
    {
      "cell_type": "code",
      "metadata": {
        "colab": {
          "base_uri": "https://localhost:8080/"
        },
        "id": "GRBaw-pJpQ24",
        "outputId": "990aa0dd-9a83-4f8a-86dd-765957fc1832"
      },
      "source": [
        "train_images.shape[0]"
      ],
      "execution_count": 7,
      "outputs": [
        {
          "output_type": "execute_result",
          "data": {
            "text/plain": [
              "50000"
            ]
          },
          "metadata": {
            "tags": []
          },
          "execution_count": 7
        }
      ]
    },
    {
      "cell_type": "markdown",
      "metadata": {
        "id": "feavjN3CsEqD"
      },
      "source": [
        "# Define CNN model"
      ]
    },
    {
      "cell_type": "markdown",
      "metadata": {
        "id": "ojKtAutEsHXP"
      },
      "source": [
        "models are usually sequential because the layers are palced one after another\n"
      ]
    },
    {
      "cell_type": "code",
      "metadata": {
        "id": "AJTecrUqrd45"
      },
      "source": [
        "model = Sequential()"
      ],
      "execution_count": 8,
      "outputs": []
    },
    {
      "cell_type": "code",
      "metadata": {
        "id": "JlCXb_h7sZOg"
      },
      "source": [
        "# first 2 layers with 32 filters of window size 3x3\n",
        "model.add(Conv2D(32, (3,3), padding='same', activation='relu', input_shape=input_shape)) #32 channels 3x3 kernel size\n",
        "model.add(MaxPooling2D(pool_size=(2,2)))\n",
        "\n",
        "model.add(Conv2D(64, (3,3), padding='same', activation='relu')) #one more convolutional layer with 64 channels\n",
        "model.add(MaxPooling2D(pool_size=(2,2)))\n",
        "\n",
        "model.add(Flatten())\n",
        "model.add(Dense(512, activation='relu')) #FULLY connected layer\n",
        "model.add(Dropout(0.5)) #regularization only 50% takes place in classification decision\n",
        "model.add(Dense(nClasses, activation='softmax')) #output layer with softmax activation...number of neurons is nClasses "
      ],
      "execution_count": 9,
      "outputs": []
    },
    {
      "cell_type": "markdown",
      "metadata": {
        "id": "SaF8nvCkuj1N"
      },
      "source": [
        "# Compile"
      ]
    },
    {
      "cell_type": "code",
      "metadata": {
        "id": "NGW2A4qjuixm"
      },
      "source": [
        "model.compile(optimizer='rmsprop', loss='categorical_crossentropy', metrics=['accuracy'])  #adam optimiser can be also used...\n",
        "#categorical cross entropy since number of classes is more than 2"
      ],
      "execution_count": 10,
      "outputs": []
    },
    {
      "cell_type": "code",
      "metadata": {
        "colab": {
          "base_uri": "https://localhost:8080/"
        },
        "id": "lyWX38DlvGmo",
        "outputId": "8da23ccc-0acd-4379-acfb-75449d7cb0ff"
      },
      "source": [
        "model.summary()"
      ],
      "execution_count": 11,
      "outputs": [
        {
          "output_type": "stream",
          "text": [
            "Model: \"sequential\"\n",
            "_________________________________________________________________\n",
            "Layer (type)                 Output Shape              Param #   \n",
            "=================================================================\n",
            "conv2d (Conv2D)              (None, 32, 32, 32)        896       \n",
            "_________________________________________________________________\n",
            "max_pooling2d (MaxPooling2D) (None, 16, 16, 32)        0         \n",
            "_________________________________________________________________\n",
            "conv2d_1 (Conv2D)            (None, 16, 16, 64)        18496     \n",
            "_________________________________________________________________\n",
            "max_pooling2d_1 (MaxPooling2 (None, 8, 8, 64)          0         \n",
            "_________________________________________________________________\n",
            "flatten (Flatten)            (None, 4096)              0         \n",
            "_________________________________________________________________\n",
            "dense (Dense)                (None, 512)               2097664   \n",
            "_________________________________________________________________\n",
            "dropout (Dropout)            (None, 512)               0         \n",
            "_________________________________________________________________\n",
            "dense_1 (Dense)              (None, 10)                5130      \n",
            "=================================================================\n",
            "Total params: 2,122,186\n",
            "Trainable params: 2,122,186\n",
            "Non-trainable params: 0\n",
            "_________________________________________________________________\n"
          ],
          "name": "stdout"
        }
      ]
    },
    {
      "cell_type": "markdown",
      "metadata": {
        "id": "Nl9WkDeVveEQ"
      },
      "source": [
        "(notes) droput layer has 512  neurons but 50% only gets activated\n",
        "all are trainable parameters"
      ]
    },
    {
      "cell_type": "code",
      "metadata": {
        "id": "o0u1JK-kyHVU"
      },
      "source": [
        "batch_size = 128\n",
        "epochs = 2"
      ],
      "execution_count": 15,
      "outputs": []
    },
    {
      "cell_type": "code",
      "metadata": {
        "colab": {
          "base_uri": "https://localhost:8080/"
        },
        "id": "6PZmX7ftvKFv",
        "outputId": "35045a5a-eca3-4527-d9ca-4d57d9335f95"
      },
      "source": [
        "#execute the model  ... verbose=1 will show you an animated progress bar like this: [===================]\n",
        "history = model.fit(train_data, train_labels_one_hot, batch_size=batch_size, epochs=epochs, verbose=1,  \n",
        "                    validation_data=(test_data, test_labels_one_hot))  #validation is taken test data itself\n",
        "model.evaluate(test_data, test_labels_one_hot)  #testing"
      ],
      "execution_count": 16,
      "outputs": [
        {
          "output_type": "stream",
          "text": [
            "Epoch 1/2\n",
            "391/391 [==============================] - 86s 217ms/step - loss: 1.8737 - accuracy: 0.3307 - val_loss: 1.2458 - val_accuracy: 0.5582\n",
            "Epoch 2/2\n",
            "391/391 [==============================] - 84s 215ms/step - loss: 1.2425 - accuracy: 0.5661 - val_loss: 1.0661 - val_accuracy: 0.6264\n",
            "313/313 [==============================] - 5s 17ms/step - loss: 1.0661 - accuracy: 0.6264\n"
          ],
          "name": "stdout"
        },
        {
          "output_type": "execute_result",
          "data": {
            "text/plain": [
              "[1.0660653114318848, 0.6263999938964844]"
            ]
          },
          "metadata": {
            "tags": []
          },
          "execution_count": 16
        }
      ]
    },
    {
      "cell_type": "markdown",
      "metadata": {
        "id": "6tulH96SzA91"
      },
      "source": [
        "(notes)...accuracy is very low in testing sinec we ran only 2 epochs"
      ]
    },
    {
      "cell_type": "markdown",
      "metadata": {
        "id": "CyS6tG9xzYhC"
      },
      "source": [
        "predefined alexNet LeNet and all will have too many conv and pooling layers...\n",
        "this above 2 epoch takes more time since all are iamges\n",
        "100 epochs would run for 1 day"
      ]
    },
    {
      "cell_type": "markdown",
      "metadata": {
        "id": "M7DI6MQazpaC"
      },
      "source": [
        "INCREASED number of layers will take more time"
      ]
    },
    {
      "cell_type": "markdown",
      "metadata": {
        "id": "ZEE3gCpUzwTS"
      },
      "source": [
        ""
      ]
    },
    {
      "cell_type": "code",
      "metadata": {
        "id": "bPDm_zekyDui"
      },
      "source": [
        ""
      ],
      "execution_count": null,
      "outputs": []
    }
  ]
}