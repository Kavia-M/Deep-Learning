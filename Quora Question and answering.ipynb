{
 "cells": [
  {
   "cell_type": "code",
   "execution_count": 1,
   "id": "df74c669",
   "metadata": {},
   "outputs": [
    {
     "name": "stderr",
     "output_type": "stream",
     "text": [
      "[nltk_data] Downloading package wordnet to\n",
      "[nltk_data]     C:\\Users\\Asus\\AppData\\Roaming\\nltk_data...\n",
      "[nltk_data]   Unzipping corpora\\wordnet.zip.\n",
      "[nltk_data] Downloading package averaged_perceptron_tagger to\n",
      "[nltk_data]     C:\\Users\\Asus\\AppData\\Roaming\\nltk_data...\n",
      "[nltk_data]   Unzipping taggers\\averaged_perceptron_tagger.zip.\n"
     ]
    },
    {
     "data": {
      "text/plain": [
       "True"
      ]
     },
     "execution_count": 1,
     "metadata": {},
     "output_type": "execute_result"
    }
   ],
   "source": [
    "import nltk\n",
    "nltk.download('wordnet')\n",
    "nltk.download('averaged_perceptron_tagger')"
   ]
  },
  {
   "cell_type": "code",
   "execution_count": 3,
   "id": "d43b2234",
   "metadata": {},
   "outputs": [],
   "source": [
    "import numpy as np # linear algebra\n",
    "import pandas as pd # data processing, CSV file I/O (e.g. pd.read_csv)\n",
    "\n",
    "from nltk.stem.wordnet import WordNetLemmatizer\n",
    "from nltk import pos_tag\n",
    "from nltk.corpus import wordnet\n",
    "from nltk.corpus import stopwords\n",
    "from nltk.stem.wordnet import WordNetLemmatizer\n",
    "from tensorflow.keras.preprocessing.text import Tokenizer\n",
    "from tensorflow.keras.preprocessing.sequence import pad_sequences\n",
    "\n",
    "import tensorflow as tf\n",
    "from tensorflow.keras.models import Sequential\n",
    "from tensorflow.keras.callbacks import EarlyStopping\n",
    "from keras.callbacks import ModelCheckpoint, ReduceLROnPlateau\n",
    "from keras.layers.normalization import BatchNormalization\n",
    "from tensorflow.keras.preprocessing.text import Tokenizer\n",
    "from tensorflow.keras.layers import LSTM, Dense, Bidirectional\n",
    "from tensorflow.keras.layers import Dropout, SpatialDropout1D, TimeDistributed,Flatten, GlobalMaxPool1D\n",
    "from tensorflow.keras.layers import Embedding\n",
    "from keras.layers import multiply\n",
    "import seaborn as sns\n",
    "import matplotlib.pyplot as plt\n",
    "\n",
    "import re\n",
    "from tqdm import tqdm\n",
    "from sklearn.model_selection import train_test_split"
   ]
  },
  {
   "cell_type": "code",
   "execution_count": 44,
   "id": "ca9df5bb",
   "metadata": {},
   "outputs": [
    {
     "name": "stderr",
     "output_type": "stream",
     "text": [
      "C:\\ProgramData\\Anaconda3\\envs\\newEnv\\lib\\site-packages\\IPython\\core\\interactiveshell.py:3072: DtypeWarning: Columns (0) have mixed types.Specify dtype option on import or set low_memory=False.\n",
      "  interactivity=interactivity, compiler=compiler, result=result)\n"
     ]
    }
   ],
   "source": [
    "train_data = pd.read_csv('C:\\\\Users\\Asus\\\\Documents\\\\Deep Learning\\\\NLP\\\\quora-question-pairs (1)\\\\train\\\\train.csv')\n",
    "test_data = pd.read_csv(\"C:\\\\Users\\\\Asus\\\\Documents\\\\Deep Learning\\\\NLP\\\\quora-question-pairs (1)\\\\test\\\\test.csv\")"
   ]
  },
  {
   "cell_type": "code",
   "execution_count": 8,
   "id": "ad6af316",
   "metadata": {},
   "outputs": [
    {
     "data": {
      "text/plain": [
       "(404290, 6)"
      ]
     },
     "execution_count": 8,
     "metadata": {},
     "output_type": "execute_result"
    }
   ],
   "source": [
    "train_data.shape"
   ]
  },
  {
   "cell_type": "code",
   "execution_count": 9,
   "id": "0d82e768",
   "metadata": {},
   "outputs": [
    {
     "data": {
      "text/html": [
       "<div>\n",
       "<style scoped>\n",
       "    .dataframe tbody tr th:only-of-type {\n",
       "        vertical-align: middle;\n",
       "    }\n",
       "\n",
       "    .dataframe tbody tr th {\n",
       "        vertical-align: top;\n",
       "    }\n",
       "\n",
       "    .dataframe thead th {\n",
       "        text-align: right;\n",
       "    }\n",
       "</style>\n",
       "<table border=\"1\" class=\"dataframe\">\n",
       "  <thead>\n",
       "    <tr style=\"text-align: right;\">\n",
       "      <th></th>\n",
       "      <th>id</th>\n",
       "      <th>qid1</th>\n",
       "      <th>qid2</th>\n",
       "      <th>question1</th>\n",
       "      <th>question2</th>\n",
       "      <th>is_duplicate</th>\n",
       "    </tr>\n",
       "  </thead>\n",
       "  <tbody>\n",
       "    <tr>\n",
       "      <th>0</th>\n",
       "      <td>0</td>\n",
       "      <td>1</td>\n",
       "      <td>2</td>\n",
       "      <td>What is the step by step guide to invest in sh...</td>\n",
       "      <td>What is the step by step guide to invest in sh...</td>\n",
       "      <td>0</td>\n",
       "    </tr>\n",
       "    <tr>\n",
       "      <th>1</th>\n",
       "      <td>1</td>\n",
       "      <td>3</td>\n",
       "      <td>4</td>\n",
       "      <td>What is the story of Kohinoor (Koh-i-Noor) Dia...</td>\n",
       "      <td>What would happen if the Indian government sto...</td>\n",
       "      <td>0</td>\n",
       "    </tr>\n",
       "    <tr>\n",
       "      <th>2</th>\n",
       "      <td>2</td>\n",
       "      <td>5</td>\n",
       "      <td>6</td>\n",
       "      <td>How can I increase the speed of my internet co...</td>\n",
       "      <td>How can Internet speed be increased by hacking...</td>\n",
       "      <td>0</td>\n",
       "    </tr>\n",
       "    <tr>\n",
       "      <th>3</th>\n",
       "      <td>3</td>\n",
       "      <td>7</td>\n",
       "      <td>8</td>\n",
       "      <td>Why am I mentally very lonely? How can I solve...</td>\n",
       "      <td>Find the remainder when [math]23^{24}[/math] i...</td>\n",
       "      <td>0</td>\n",
       "    </tr>\n",
       "  </tbody>\n",
       "</table>\n",
       "</div>"
      ],
      "text/plain": [
       "   id  qid1  qid2                                          question1  \\\n",
       "0   0     1     2  What is the step by step guide to invest in sh...   \n",
       "1   1     3     4  What is the story of Kohinoor (Koh-i-Noor) Dia...   \n",
       "2   2     5     6  How can I increase the speed of my internet co...   \n",
       "3   3     7     8  Why am I mentally very lonely? How can I solve...   \n",
       "\n",
       "                                           question2  is_duplicate  \n",
       "0  What is the step by step guide to invest in sh...             0  \n",
       "1  What would happen if the Indian government sto...             0  \n",
       "2  How can Internet speed be increased by hacking...             0  \n",
       "3  Find the remainder when [math]23^{24}[/math] i...             0  "
      ]
     },
     "execution_count": 9,
     "metadata": {},
     "output_type": "execute_result"
    }
   ],
   "source": [
    "train_data.head(4)"
   ]
  },
  {
   "cell_type": "code",
   "execution_count": 10,
   "id": "bdc25e62",
   "metadata": {},
   "outputs": [
    {
     "data": {
      "text/html": [
       "<div>\n",
       "<style scoped>\n",
       "    .dataframe tbody tr th:only-of-type {\n",
       "        vertical-align: middle;\n",
       "    }\n",
       "\n",
       "    .dataframe tbody tr th {\n",
       "        vertical-align: top;\n",
       "    }\n",
       "\n",
       "    .dataframe thead th {\n",
       "        text-align: right;\n",
       "    }\n",
       "</style>\n",
       "<table border=\"1\" class=\"dataframe\">\n",
       "  <thead>\n",
       "    <tr style=\"text-align: right;\">\n",
       "      <th></th>\n",
       "      <th>test_id</th>\n",
       "      <th>question1</th>\n",
       "      <th>question2</th>\n",
       "    </tr>\n",
       "  </thead>\n",
       "  <tbody>\n",
       "    <tr>\n",
       "      <th>0</th>\n",
       "      <td>0</td>\n",
       "      <td>How does the Surface Pro himself 4 compare wit...</td>\n",
       "      <td>Why did Microsoft choose core m3 and not core ...</td>\n",
       "    </tr>\n",
       "    <tr>\n",
       "      <th>1</th>\n",
       "      <td>1</td>\n",
       "      <td>Should I have a hair transplant at age 24? How...</td>\n",
       "      <td>How much cost does hair transplant require?</td>\n",
       "    </tr>\n",
       "    <tr>\n",
       "      <th>2</th>\n",
       "      <td>2</td>\n",
       "      <td>What but is the best way to send money from Ch...</td>\n",
       "      <td>What you send money to China?</td>\n",
       "    </tr>\n",
       "    <tr>\n",
       "      <th>3</th>\n",
       "      <td>3</td>\n",
       "      <td>Which food not emulsifiers?</td>\n",
       "      <td>What foods fibre?</td>\n",
       "    </tr>\n",
       "    <tr>\n",
       "      <th>4</th>\n",
       "      <td>4</td>\n",
       "      <td>How \"aberystwyth\" start reading?</td>\n",
       "      <td>How their can I start reading?</td>\n",
       "    </tr>\n",
       "  </tbody>\n",
       "</table>\n",
       "</div>"
      ],
      "text/plain": [
       "  test_id                                          question1  \\\n",
       "0       0  How does the Surface Pro himself 4 compare wit...   \n",
       "1       1  Should I have a hair transplant at age 24? How...   \n",
       "2       2  What but is the best way to send money from Ch...   \n",
       "3       3                        Which food not emulsifiers?   \n",
       "4       4                   How \"aberystwyth\" start reading?   \n",
       "\n",
       "                                           question2  \n",
       "0  Why did Microsoft choose core m3 and not core ...  \n",
       "1        How much cost does hair transplant require?  \n",
       "2                      What you send money to China?  \n",
       "3                                  What foods fibre?  \n",
       "4                     How their can I start reading?  "
      ]
     },
     "execution_count": 10,
     "metadata": {},
     "output_type": "execute_result"
    }
   ],
   "source": [
    "test_data.head()"
   ]
  },
  {
   "cell_type": "raw",
   "id": "f597f920",
   "metadata": {},
   "source": [
    "TEST DATA IS UNLABELED...WE CANNOT CALCULATE TEST ERROR OR ACCURACY...HENCE WE IGNORE THIS TEST DATA"
   ]
  },
  {
   "cell_type": "markdown",
   "id": "ff0945c1",
   "metadata": {},
   "source": [
    "### Wordnet Lemmatizer (with POS tag)"
   ]
  },
  {
   "cell_type": "code",
   "execution_count": 11,
   "id": "f9b44bae",
   "metadata": {},
   "outputs": [],
   "source": [
    "def get_pos_tag(tag):\n",
    "    if tag.startswith('J'):\n",
    "        return wordnet.ADJ\n",
    "    elif tag.startswith('V'):\n",
    "        return wordnet.VERB\n",
    "    elif tag.startswith('N'):\n",
    "        return wordnet.NOUN\n",
    "    elif tag.startswith('R'):\n",
    "        return wordnet.ADV\n",
    "    else:\n",
    "        return wordnet.NOUN\n",
    "\n",
    "lemmatizer = WordNetLemmatizer()"
   ]
  },
  {
   "cell_type": "code",
   "execution_count": 13,
   "id": "bc77f3c3",
   "metadata": {},
   "outputs": [
    {
     "name": "stderr",
     "output_type": "stream",
     "text": [
      "[nltk_data] Downloading package stopwords to\n",
      "[nltk_data]     C:\\Users\\Asus\\AppData\\Roaming\\nltk_data...\n",
      "[nltk_data]   Unzipping corpora\\stopwords.zip.\n"
     ]
    },
    {
     "data": {
      "text/plain": [
       "True"
      ]
     },
     "execution_count": 13,
     "metadata": {},
     "output_type": "execute_result"
    }
   ],
   "source": [
    "nltk.download('stopwords')"
   ]
  },
  {
   "cell_type": "code",
   "execution_count": 35,
   "id": "437ccdfd",
   "metadata": {},
   "outputs": [],
   "source": [
    "regex = [\n",
    "    r'<[^>]+>', #HTML tags\n",
    "    r'@(\\w+)', # @-mentions\n",
    "    r\"#(\\w+)\", # hashtags\n",
    "    r'http[s]?://(?:[a-z]|[0-9]|[$-_@.&+]|[!*\\(\\),]|(?:%[0-9a-f][0-9a-f]))+', # URLs\n",
    "    r'[^0-9a-z #+_\\\\r\\\\n\\\\t]', #BAD SYMBOLS\n",
    "]\n",
    "\n",
    "REPLACE_URLS = re.compile(r'http[s]?://(?:[a-z]|[0-9]|[$-_@.&+]|[!*\\(\\),]|(?:%[0-9a-f][0-9a-f]))+')\n",
    "REPLACE_HASH = re.compile(r'#(\\w+)')\n",
    "REPLACE_AT = re.compile(r'@(\\w+)')\n",
    "REPLACE_HTML_TAGS = re.compile(r'<[^>]+>')\n",
    "REPLACE_BY = re.compile(r\"[^a-z0-9\\-]\")\n",
    "\n",
    "STOPWORDS = set(stopwords.words('english'))\n",
    "\n",
    "def clean_text(text):\n",
    "    text = text.lower()\n",
    "    text = REPLACE_HTML_TAGS.sub(' ', text)\n",
    "    text = REPLACE_URLS.sub('', text)\n",
    "    text = REPLACE_HASH.sub('', text)\n",
    "    text = REPLACE_AT.sub('', text)\n",
    "    text = REPLACE_BY.sub(' ', text)\n",
    "    \n",
    "    \n",
    "    text = \" \".join(lemmatizer.lemmatize(word.strip(), get_pos_tag(pos_tag([word.strip()])[0][1])) for word in text.split() if word not in STOPWORDS and len(word)>3)\n",
    "    \n",
    "    return text"
   ]
  },
  {
   "cell_type": "code",
   "execution_count": 17,
   "id": "674bc841",
   "metadata": {},
   "outputs": [],
   "source": [
    "sentence = 'the cat is sitting with the bats on the striped mat under many badly flying geese'\n"
   ]
  },
  {
   "cell_type": "code",
   "execution_count": 19,
   "id": "19292a55",
   "metadata": {},
   "outputs": [
    {
     "name": "stderr",
     "output_type": "stream",
     "text": [
      "[nltk_data] Downloading package punkt to\n",
      "[nltk_data]     C:\\Users\\Asus\\AppData\\Roaming\\nltk_data...\n",
      "[nltk_data]   Unzipping tokenizers\\punkt.zip.\n"
     ]
    },
    {
     "data": {
      "text/plain": [
       "True"
      ]
     },
     "execution_count": 19,
     "metadata": {},
     "output_type": "execute_result"
    }
   ],
   "source": [
    "nltk.download('punkt')"
   ]
  },
  {
   "cell_type": "code",
   "execution_count": 20,
   "id": "64c85848",
   "metadata": {},
   "outputs": [],
   "source": [
    "pos_tagged = nltk.pos_tag(nltk.word_tokenize(sentence))  "
   ]
  },
  {
   "cell_type": "code",
   "execution_count": 21,
   "id": "14e1c7fc",
   "metadata": {},
   "outputs": [],
   "source": [
    "wordnet_tagged = list(map(lambda x: (x[0], get_pos_tag(x[1])), pos_tagged))"
   ]
  },
  {
   "cell_type": "code",
   "execution_count": 22,
   "id": "1e84cd54",
   "metadata": {},
   "outputs": [
    {
     "name": "stdout",
     "output_type": "stream",
     "text": [
      "[('the', 'n'), ('cat', 'n'), ('is', 'v'), ('sitting', 'v'), ('with', 'n'), ('the', 'n'), ('bats', 'n'), ('on', 'n'), ('the', 'n'), ('striped', 'a'), ('mat', 'n'), ('under', 'n'), ('many', 'a'), ('badly', 'r'), ('flying', 'v'), ('geese', 'a')]\n"
     ]
    }
   ],
   "source": [
    "print(wordnet_tagged)"
   ]
  },
  {
   "cell_type": "code",
   "execution_count": 23,
   "id": "f4dc5ec5",
   "metadata": {},
   "outputs": [
    {
     "data": {
      "text/plain": [
       "'v'"
      ]
     },
     "execution_count": 23,
     "metadata": {},
     "output_type": "execute_result"
    }
   ],
   "source": [
    "get_pos_tag(pos_tag(['playing'.strip()])[0][1])\n"
   ]
  },
  {
   "cell_type": "code",
   "execution_count": 24,
   "id": "eb6f0cd1",
   "metadata": {},
   "outputs": [
    {
     "data": {
      "text/plain": [
       "'play'"
      ]
     },
     "execution_count": 24,
     "metadata": {},
     "output_type": "execute_result"
    }
   ],
   "source": [
    "lemmatizer.lemmatize('playing'.strip(), get_pos_tag(pos_tag(['playing'.strip()])[0][1]))"
   ]
  },
  {
   "cell_type": "code",
   "execution_count": 25,
   "id": "84261f6f",
   "metadata": {},
   "outputs": [
    {
     "data": {
      "text/plain": [
       "[('word', 'NN')]"
      ]
     },
     "execution_count": 25,
     "metadata": {},
     "output_type": "execute_result"
    }
   ],
   "source": [
    "pos_tag(['word'.strip()])  #noun"
   ]
  },
  {
   "cell_type": "code",
   "execution_count": 26,
   "id": "d5be10b0",
   "metadata": {},
   "outputs": [],
   "source": [
    "sen = 'kavia id is @kavia It is not gmail ID'"
   ]
  },
  {
   "cell_type": "code",
   "execution_count": 30,
   "id": "333226fd",
   "metadata": {},
   "outputs": [
    {
     "data": {
      "text/plain": [
       "'kavia gmail'"
      ]
     },
     "execution_count": 30,
     "metadata": {},
     "output_type": "execute_result"
    }
   ],
   "source": [
    "clean_text(sen)"
   ]
  },
  {
   "cell_type": "code",
   "execution_count": 36,
   "id": "51868667",
   "metadata": {},
   "outputs": [],
   "source": [
    "def clean_text1(text):\n",
    "    text = text.lower()\n",
    "    text = REPLACE_HTML_TAGS.sub(' ', text)\n",
    "    text = REPLACE_URLS.sub('', text)\n",
    "    text = REPLACE_HASH.sub('', text)\n",
    "    text = REPLACE_AT.sub('', text)\n",
    "    text = REPLACE_BY.sub(' ', text)\n",
    "    \n",
    "    \n",
    "    text = \" \".join(lemmatizer.lemmatize(word.strip(), get_pos_tag(pos_tag([word.strip()])[0][1])) for word in text.split() if word not in STOPWORDS)\n",
    "    \n",
    "    return text"
   ]
  },
  {
   "cell_type": "code",
   "execution_count": 37,
   "id": "a5831913",
   "metadata": {},
   "outputs": [
    {
     "data": {
      "text/plain": [
       "'kavia id gmail id'"
      ]
     },
     "execution_count": 37,
     "metadata": {},
     "output_type": "execute_result"
    }
   ],
   "source": [
    "clean_text1(sen)"
   ]
  },
  {
   "cell_type": "code",
   "execution_count": 38,
   "id": "4884fa63",
   "metadata": {},
   "outputs": [
    {
     "data": {
      "text/plain": [
       "'use'"
      ]
     },
     "execution_count": 38,
     "metadata": {},
     "output_type": "execute_result"
    }
   ],
   "source": [
    "clean_text1('<html tag> is used here')"
   ]
  },
  {
   "cell_type": "code",
   "execution_count": 39,
   "id": "19430f23",
   "metadata": {},
   "outputs": [
    {
     "data": {
      "text/plain": [
       "'website live'"
      ]
     },
     "execution_count": 39,
     "metadata": {},
     "output_type": "execute_result"
    }
   ],
   "source": [
    "clean_text1('our website is http://annauniv.com live now')"
   ]
  },
  {
   "cell_type": "code",
   "execution_count": 45,
   "id": "a62e4a92",
   "metadata": {},
   "outputs": [
    {
     "data": {
      "text/plain": [
       "(3563475, 3)"
      ]
     },
     "execution_count": 45,
     "metadata": {},
     "output_type": "execute_result"
    }
   ],
   "source": [
    "test_data.shape"
   ]
  },
  {
   "cell_type": "code",
   "execution_count": 46,
   "id": "a00a9991",
   "metadata": {},
   "outputs": [
    {
     "data": {
      "text/plain": [
       "(404290, 6)"
      ]
     },
     "execution_count": 46,
     "metadata": {},
     "output_type": "execute_result"
    }
   ],
   "source": [
    "train_data.shape"
   ]
  },
  {
   "cell_type": "code",
   "execution_count": 47,
   "id": "9f5c1444",
   "metadata": {},
   "outputs": [],
   "source": [
    "train_data = train_data.sample(frac=0.2).reset_index(drop=True)\n",
    "test_data = test_data.sample(frac=0.01).reset_index(drop=True)"
   ]
  },
  {
   "cell_type": "code",
   "execution_count": 48,
   "id": "fb1cc9ba",
   "metadata": {},
   "outputs": [
    {
     "data": {
      "text/plain": [
       "(80858, 6)"
      ]
     },
     "execution_count": 48,
     "metadata": {},
     "output_type": "execute_result"
    }
   ],
   "source": [
    "train_data.shape"
   ]
  },
  {
   "cell_type": "code",
   "execution_count": 49,
   "id": "dfd6fb4d",
   "metadata": {},
   "outputs": [
    {
     "data": {
      "text/plain": [
       "(35635, 3)"
      ]
     },
     "execution_count": 49,
     "metadata": {},
     "output_type": "execute_result"
    }
   ],
   "source": [
    "test_data.shape"
   ]
  },
  {
   "cell_type": "code",
   "execution_count": 50,
   "id": "38c69e59",
   "metadata": {},
   "outputs": [],
   "source": [
    "train_data = train_data.drop(['id','qid1','qid2'],axis=1)\n"
   ]
  },
  {
   "cell_type": "code",
   "execution_count": 51,
   "id": "5c4341b6",
   "metadata": {},
   "outputs": [
    {
     "data": {
      "text/html": [
       "<div>\n",
       "<style scoped>\n",
       "    .dataframe tbody tr th:only-of-type {\n",
       "        vertical-align: middle;\n",
       "    }\n",
       "\n",
       "    .dataframe tbody tr th {\n",
       "        vertical-align: top;\n",
       "    }\n",
       "\n",
       "    .dataframe thead th {\n",
       "        text-align: right;\n",
       "    }\n",
       "</style>\n",
       "<table border=\"1\" class=\"dataframe\">\n",
       "  <thead>\n",
       "    <tr style=\"text-align: right;\">\n",
       "      <th></th>\n",
       "      <th>question1</th>\n",
       "      <th>question2</th>\n",
       "      <th>is_duplicate</th>\n",
       "    </tr>\n",
       "  </thead>\n",
       "  <tbody>\n",
       "    <tr>\n",
       "      <th>0</th>\n",
       "      <td>What will be the output of the following program?</td>\n",
       "      <td>What is the output of the following program?</td>\n",
       "      <td>0</td>\n",
       "    </tr>\n",
       "    <tr>\n",
       "      <th>1</th>\n",
       "      <td>Who all are the eligible bachelors to marry Da...</td>\n",
       "      <td>Who can Daenerys marry in Westeros?</td>\n",
       "      <td>1</td>\n",
       "    </tr>\n",
       "    <tr>\n",
       "      <th>2</th>\n",
       "      <td>How are tomato classified as fruit or vegetables?</td>\n",
       "      <td>What classifies a fruit from a vegetable?</td>\n",
       "      <td>0</td>\n",
       "    </tr>\n",
       "    <tr>\n",
       "      <th>3</th>\n",
       "      <td>How do I get my UAN number?</td>\n",
       "      <td>How I obtain my UAN Number?</td>\n",
       "      <td>1</td>\n",
       "    </tr>\n",
       "    <tr>\n",
       "      <th>4</th>\n",
       "      <td>Does dish soap kill fleas?</td>\n",
       "      <td>Does washing your dog with Dawn dish soap real...</td>\n",
       "      <td>0</td>\n",
       "    </tr>\n",
       "  </tbody>\n",
       "</table>\n",
       "</div>"
      ],
      "text/plain": [
       "                                           question1  \\\n",
       "0  What will be the output of the following program?   \n",
       "1  Who all are the eligible bachelors to marry Da...   \n",
       "2  How are tomato classified as fruit or vegetables?   \n",
       "3                        How do I get my UAN number?   \n",
       "4                         Does dish soap kill fleas?   \n",
       "\n",
       "                                           question2  is_duplicate  \n",
       "0       What is the output of the following program?             0  \n",
       "1                Who can Daenerys marry in Westeros?             1  \n",
       "2          What classifies a fruit from a vegetable?             0  \n",
       "3                        How I obtain my UAN Number?             1  \n",
       "4  Does washing your dog with Dawn dish soap real...             0  "
      ]
     },
     "execution_count": 51,
     "metadata": {},
     "output_type": "execute_result"
    }
   ],
   "source": [
    "train_data.head()"
   ]
  },
  {
   "cell_type": "code",
   "execution_count": 52,
   "id": "f001163b",
   "metadata": {},
   "outputs": [
    {
     "data": {
      "text/plain": [
       "<AxesSubplot:>"
      ]
     },
     "execution_count": 52,
     "metadata": {},
     "output_type": "execute_result"
    },
    {
     "data": {
      "image/png": "[encoded data removed]",
      "text/plain": [
       "<Figure size 432x288 with 1 Axes>"
      ]
     },
     "metadata": {
      "needs_background": "light"
     },
     "output_type": "display_data"
    }
   ],
   "source": [
    "train_data.is_duplicate.value_counts().plot(kind='bar')"
   ]
  },
  {
   "cell_type": "code",
   "execution_count": 53,
   "id": "69235fd4",
   "metadata": {},
   "outputs": [
    {
     "data": {
      "text/plain": [
       "((29935, 3), (50923, 3))"
      ]
     },
     "execution_count": 53,
     "metadata": {},
     "output_type": "execute_result"
    }
   ],
   "source": [
    "train_data[train_data['is_duplicate']==1].shape,train_data[train_data['is_duplicate']==0].shape"
   ]
  },
  {
   "cell_type": "code",
   "execution_count": 54,
   "id": "58c5d21a",
   "metadata": {},
   "outputs": [],
   "source": [
    "is_duplicate = train_data[train_data['is_duplicate']==1]\n",
    "not_duplicate = train_data[train_data['is_duplicate']==0].sample(29935)"
   ]
  },
  {
   "cell_type": "code",
   "execution_count": 56,
   "id": "c1eb535d",
   "metadata": {},
   "outputs": [
    {
     "data": {
      "text/html": [
       "<div>\n",
       "<style scoped>\n",
       "    .dataframe tbody tr th:only-of-type {\n",
       "        vertical-align: middle;\n",
       "    }\n",
       "\n",
       "    .dataframe tbody tr th {\n",
       "        vertical-align: top;\n",
       "    }\n",
       "\n",
       "    .dataframe thead th {\n",
       "        text-align: right;\n",
       "    }\n",
       "</style>\n",
       "<table border=\"1\" class=\"dataframe\">\n",
       "  <thead>\n",
       "    <tr style=\"text-align: right;\">\n",
       "      <th></th>\n",
       "      <th>question1</th>\n",
       "      <th>question2</th>\n",
       "      <th>is_duplicate</th>\n",
       "    </tr>\n",
       "  </thead>\n",
       "  <tbody>\n",
       "    <tr>\n",
       "      <th>0</th>\n",
       "      <td>Why is America named after Amerigo Vespucci an...</td>\n",
       "      <td>What was the name of America before Christophe...</td>\n",
       "      <td>0</td>\n",
       "    </tr>\n",
       "    <tr>\n",
       "      <th>1</th>\n",
       "      <td>What is a frozen shoulder?</td>\n",
       "      <td>What is frozen shoulder?</td>\n",
       "      <td>1</td>\n",
       "    </tr>\n",
       "    <tr>\n",
       "      <th>2</th>\n",
       "      <td>What is the best coffee bean you have ever had?</td>\n",
       "      <td>What's the best coffee bean?</td>\n",
       "      <td>0</td>\n",
       "    </tr>\n",
       "    <tr>\n",
       "      <th>3</th>\n",
       "      <td>Can I substitute corn flour for plain flour?</td>\n",
       "      <td>Can I use spelt flour in place of plain flour?</td>\n",
       "      <td>0</td>\n",
       "    </tr>\n",
       "    <tr>\n",
       "      <th>4</th>\n",
       "      <td>How can one get away with murder, without any ...</td>\n",
       "      <td>How do you kill someone and get away with it?</td>\n",
       "      <td>1</td>\n",
       "    </tr>\n",
       "    <tr>\n",
       "      <th>...</th>\n",
       "      <td>...</td>\n",
       "      <td>...</td>\n",
       "      <td>...</td>\n",
       "    </tr>\n",
       "    <tr>\n",
       "      <th>59865</th>\n",
       "      <td>How do I make a remote controlled device?</td>\n",
       "      <td>How can one make a remote control for all devi...</td>\n",
       "      <td>0</td>\n",
       "    </tr>\n",
       "    <tr>\n",
       "      <th>59866</th>\n",
       "      <td>Is that possible to increase height after age ...</td>\n",
       "      <td>How girls can increase their height after 18 y...</td>\n",
       "      <td>1</td>\n",
       "    </tr>\n",
       "    <tr>\n",
       "      <th>59867</th>\n",
       "      <td>Is it true CAT 2016 will have less number of Q...</td>\n",
       "      <td>What will happen if I only answer 4-5 question...</td>\n",
       "      <td>0</td>\n",
       "    </tr>\n",
       "    <tr>\n",
       "      <th>59868</th>\n",
       "      <td>How can I get back in my Facebook without a va...</td>\n",
       "      <td>How do I get into my Facebook if I can't remem...</td>\n",
       "      <td>1</td>\n",
       "    </tr>\n",
       "    <tr>\n",
       "      <th>59869</th>\n",
       "      <td>Why am I having a severe pain inside my cheek?</td>\n",
       "      <td>How can I treat a severe pain inside my cheek?</td>\n",
       "      <td>0</td>\n",
       "    </tr>\n",
       "  </tbody>\n",
       "</table>\n",
       "<p>59870 rows × 3 columns</p>\n",
       "</div>"
      ],
      "text/plain": [
       "                                               question1  \\\n",
       "0      Why is America named after Amerigo Vespucci an...   \n",
       "1                             What is a frozen shoulder?   \n",
       "2        What is the best coffee bean you have ever had?   \n",
       "3           Can I substitute corn flour for plain flour?   \n",
       "4      How can one get away with murder, without any ...   \n",
       "...                                                  ...   \n",
       "59865          How do I make a remote controlled device?   \n",
       "59866  Is that possible to increase height after age ...   \n",
       "59867  Is it true CAT 2016 will have less number of Q...   \n",
       "59868  How can I get back in my Facebook without a va...   \n",
       "59869     Why am I having a severe pain inside my cheek?   \n",
       "\n",
       "                                               question2  is_duplicate  \n",
       "0      What was the name of America before Christophe...             0  \n",
       "1                               What is frozen shoulder?             1  \n",
       "2                           What's the best coffee bean?             0  \n",
       "3         Can I use spelt flour in place of plain flour?             0  \n",
       "4          How do you kill someone and get away with it?             1  \n",
       "...                                                  ...           ...  \n",
       "59865  How can one make a remote control for all devi...             0  \n",
       "59866  How girls can increase their height after 18 y...             1  \n",
       "59867  What will happen if I only answer 4-5 question...             0  \n",
       "59868  How do I get into my Facebook if I can't remem...             1  \n",
       "59869     How can I treat a severe pain inside my cheek?             0  \n",
       "\n",
       "[59870 rows x 3 columns]"
      ]
     },
     "execution_count": 56,
     "metadata": {},
     "output_type": "execute_result"
    }
   ],
   "source": [
    "train_data = pd.concat([is_duplicate,not_duplicate])\n",
    "train_data = train_data.sample(frac=1).reset_index(drop=True)\n",
    "train_data"
   ]
  },
  {
   "cell_type": "code",
   "execution_count": 57,
   "id": "b621c514",
   "metadata": {},
   "outputs": [
    {
     "data": {
      "text/plain": [
       "((29935, 3), (29935, 3))"
      ]
     },
     "execution_count": 57,
     "metadata": {},
     "output_type": "execute_result"
    }
   ],
   "source": [
    "train_data[train_data['is_duplicate']==1].shape,train_data[train_data['is_duplicate']==0].shape"
   ]
  },
  {
   "cell_type": "code",
   "execution_count": 58,
   "id": "d9ca8b49",
   "metadata": {},
   "outputs": [],
   "source": [
    "import numpy as np\n",
    "from sklearn.model_selection import train_test_split"
   ]
  },
  {
   "cell_type": "code",
   "execution_count": 64,
   "id": "1ac02c5b",
   "metadata": {},
   "outputs": [
    {
     "data": {
      "text/html": [
       "<div>\n",
       "<style scoped>\n",
       "    .dataframe tbody tr th:only-of-type {\n",
       "        vertical-align: middle;\n",
       "    }\n",
       "\n",
       "    .dataframe tbody tr th {\n",
       "        vertical-align: top;\n",
       "    }\n",
       "\n",
       "    .dataframe thead th {\n",
       "        text-align: right;\n",
       "    }\n",
       "</style>\n",
       "<table border=\"1\" class=\"dataframe\">\n",
       "  <thead>\n",
       "    <tr style=\"text-align: right;\">\n",
       "      <th></th>\n",
       "      <th>question1</th>\n",
       "      <th>question2</th>\n",
       "      <th>is_duplicate</th>\n",
       "    </tr>\n",
       "  </thead>\n",
       "  <tbody>\n",
       "    <tr>\n",
       "      <th>0</th>\n",
       "      <td>Why is America named after Amerigo Vespucci an...</td>\n",
       "      <td>What was the name of America before Christophe...</td>\n",
       "      <td>0</td>\n",
       "    </tr>\n",
       "    <tr>\n",
       "      <th>1</th>\n",
       "      <td>What is a frozen shoulder?</td>\n",
       "      <td>What is frozen shoulder?</td>\n",
       "      <td>1</td>\n",
       "    </tr>\n",
       "    <tr>\n",
       "      <th>2</th>\n",
       "      <td>What is the best coffee bean you have ever had?</td>\n",
       "      <td>What's the best coffee bean?</td>\n",
       "      <td>0</td>\n",
       "    </tr>\n",
       "    <tr>\n",
       "      <th>3</th>\n",
       "      <td>Can I substitute corn flour for plain flour?</td>\n",
       "      <td>Can I use spelt flour in place of plain flour?</td>\n",
       "      <td>0</td>\n",
       "    </tr>\n",
       "    <tr>\n",
       "      <th>4</th>\n",
       "      <td>How can one get away with murder, without any ...</td>\n",
       "      <td>How do you kill someone and get away with it?</td>\n",
       "      <td>1</td>\n",
       "    </tr>\n",
       "    <tr>\n",
       "      <th>...</th>\n",
       "      <td>...</td>\n",
       "      <td>...</td>\n",
       "      <td>...</td>\n",
       "    </tr>\n",
       "    <tr>\n",
       "      <th>59865</th>\n",
       "      <td>How do I make a remote controlled device?</td>\n",
       "      <td>How can one make a remote control for all devi...</td>\n",
       "      <td>0</td>\n",
       "    </tr>\n",
       "    <tr>\n",
       "      <th>59866</th>\n",
       "      <td>Is that possible to increase height after age ...</td>\n",
       "      <td>How girls can increase their height after 18 y...</td>\n",
       "      <td>1</td>\n",
       "    </tr>\n",
       "    <tr>\n",
       "      <th>59867</th>\n",
       "      <td>Is it true CAT 2016 will have less number of Q...</td>\n",
       "      <td>What will happen if I only answer 4-5 question...</td>\n",
       "      <td>0</td>\n",
       "    </tr>\n",
       "    <tr>\n",
       "      <th>59868</th>\n",
       "      <td>How can I get back in my Facebook without a va...</td>\n",
       "      <td>How do I get into my Facebook if I can't remem...</td>\n",
       "      <td>1</td>\n",
       "    </tr>\n",
       "    <tr>\n",
       "      <th>59869</th>\n",
       "      <td>Why am I having a severe pain inside my cheek?</td>\n",
       "      <td>How can I treat a severe pain inside my cheek?</td>\n",
       "      <td>0</td>\n",
       "    </tr>\n",
       "  </tbody>\n",
       "</table>\n",
       "<p>59870 rows × 3 columns</p>\n",
       "</div>"
      ],
      "text/plain": [
       "                                               question1  \\\n",
       "0      Why is America named after Amerigo Vespucci an...   \n",
       "1                             What is a frozen shoulder?   \n",
       "2        What is the best coffee bean you have ever had?   \n",
       "3           Can I substitute corn flour for plain flour?   \n",
       "4      How can one get away with murder, without any ...   \n",
       "...                                                  ...   \n",
       "59865          How do I make a remote controlled device?   \n",
       "59866  Is that possible to increase height after age ...   \n",
       "59867  Is it true CAT 2016 will have less number of Q...   \n",
       "59868  How can I get back in my Facebook without a va...   \n",
       "59869     Why am I having a severe pain inside my cheek?   \n",
       "\n",
       "                                               question2  is_duplicate  \n",
       "0      What was the name of America before Christophe...             0  \n",
       "1                               What is frozen shoulder?             1  \n",
       "2                           What's the best coffee bean?             0  \n",
       "3         Can I use spelt flour in place of plain flour?             0  \n",
       "4          How do you kill someone and get away with it?             1  \n",
       "...                                                  ...           ...  \n",
       "59865  How can one make a remote control for all devi...             0  \n",
       "59866  How girls can increase their height after 18 y...             1  \n",
       "59867  What will happen if I only answer 4-5 question...             0  \n",
       "59868  How do I get into my Facebook if I can't remem...             1  \n",
       "59869     How can I treat a severe pain inside my cheek?             0  \n",
       "\n",
       "[59870 rows x 3 columns]"
      ]
     },
     "execution_count": 64,
     "metadata": {},
     "output_type": "execute_result"
    }
   ],
   "source": [
    "train_data"
   ]
  },
  {
   "cell_type": "code",
   "execution_count": 65,
   "id": "b5ed60da",
   "metadata": {},
   "outputs": [],
   "source": [
    "train, test = train_test_split(train_data, test_size=0.2)"
   ]
  },
  {
   "cell_type": "code",
   "execution_count": 67,
   "id": "69b52136",
   "metadata": {},
   "outputs": [
    {
     "data": {
      "text/plain": [
       "(47896, 3)"
      ]
     },
     "execution_count": 67,
     "metadata": {},
     "output_type": "execute_result"
    }
   ],
   "source": [
    "train.shape"
   ]
  },
  {
   "cell_type": "code",
   "execution_count": 68,
   "id": "cec1de23",
   "metadata": {},
   "outputs": [
    {
     "data": {
      "text/plain": [
       "(11974, 3)"
      ]
     },
     "execution_count": 68,
     "metadata": {},
     "output_type": "execute_result"
    }
   ],
   "source": [
    "test.shape"
   ]
  },
  {
   "cell_type": "code",
   "execution_count": 69,
   "id": "5da30474",
   "metadata": {},
   "outputs": [
    {
     "data": {
      "text/plain": [
       "((23991, 3), (23905, 3))"
      ]
     },
     "execution_count": 69,
     "metadata": {},
     "output_type": "execute_result"
    }
   ],
   "source": [
    "train[train['is_duplicate']==1].shape,train[train['is_duplicate']==0].shape"
   ]
  },
  {
   "cell_type": "code",
   "execution_count": 70,
   "id": "40856551",
   "metadata": {},
   "outputs": [
    {
     "data": {
      "text/plain": [
       "((5944, 3), (6030, 3))"
      ]
     },
     "execution_count": 70,
     "metadata": {},
     "output_type": "execute_result"
    }
   ],
   "source": [
    "test[test['is_duplicate']==1].shape,test[test['is_duplicate']==0].shape"
   ]
  },
  {
   "cell_type": "code",
   "execution_count": 74,
   "id": "ece2ffab",
   "metadata": {},
   "outputs": [
    {
     "data": {
      "text/plain": [
       "2586     Which are the best dancing bollywood songs for...\n",
       "19398                     What should I do to impress you?\n",
       "19946    What is the difference between schizophrenia a...\n",
       "25247    What does Gary Johnson have to do to have a ch...\n",
       "54090    What are some countries that were democracies ...\n",
       "                               ...                        \n",
       "22613    What is the best way to lose weight and not ga...\n",
       "14824    When will i get my withdrawl bleeding its been...\n",
       "36859    Fashion E-commerce: Why does ZARA  not sell on...\n",
       "53207    What is a good Warrior Cat name for an apprent...\n",
       "48378    Why are former British colonies doing so well ...\n",
       "Name: question1, Length: 47896, dtype: object"
      ]
     },
     "execution_count": 74,
     "metadata": {},
     "output_type": "execute_result"
    }
   ],
   "source": [
    "train['question1']"
   ]
  },
  {
   "cell_type": "code",
   "execution_count": 75,
   "id": "0e781b89",
   "metadata": {},
   "outputs": [
    {
     "name": "stderr",
     "output_type": "stream",
     "text": [
      "C:\\ProgramData\\Anaconda3\\envs\\newEnv\\lib\\site-packages\\ipykernel_launcher.py:1: SettingWithCopyWarning: \n",
      "A value is trying to be set on a copy of a slice from a DataFrame.\n",
      "Try using .loc[row_indexer,col_indexer] = value instead\n",
      "\n",
      "See the caveats in the documentation: https://pandas.pydata.org/pandas-docs/stable/user_guide/indexing.html#returning-a-view-versus-a-copy\n",
      "  \"\"\"Entry point for launching an IPython kernel.\n"
     ]
    }
   ],
   "source": [
    "train['question1']=train['question1'].astype(str)"
   ]
  },
  {
   "cell_type": "code",
   "execution_count": 76,
   "id": "095881fb",
   "metadata": {},
   "outputs": [
    {
     "data": {
      "text/plain": [
       "2586     Which are the best dancing bollywood songs for...\n",
       "19398                     What should I do to impress you?\n",
       "19946    What is the difference between schizophrenia a...\n",
       "25247    What does Gary Johnson have to do to have a ch...\n",
       "54090    What are some countries that were democracies ...\n",
       "                               ...                        \n",
       "22613    What is the best way to lose weight and not ga...\n",
       "14824    When will i get my withdrawl bleeding its been...\n",
       "36859    Fashion E-commerce: Why does ZARA  not sell on...\n",
       "53207    What is a good Warrior Cat name for an apprent...\n",
       "48378    Why are former British colonies doing so well ...\n",
       "Name: question1, Length: 47896, dtype: object"
      ]
     },
     "execution_count": 76,
     "metadata": {},
     "output_type": "execute_result"
    }
   ],
   "source": [
    "train['question1']"
   ]
  },
  {
   "cell_type": "code",
   "execution_count": 77,
   "id": "e0734ae7",
   "metadata": {},
   "outputs": [
    {
     "name": "stderr",
     "output_type": "stream",
     "text": [
      "C:\\ProgramData\\Anaconda3\\envs\\newEnv\\lib\\site-packages\\ipykernel_launcher.py:1: SettingWithCopyWarning: \n",
      "A value is trying to be set on a copy of a slice from a DataFrame.\n",
      "Try using .loc[row_indexer,col_indexer] = value instead\n",
      "\n",
      "See the caveats in the documentation: https://pandas.pydata.org/pandas-docs/stable/user_guide/indexing.html#returning-a-view-versus-a-copy\n",
      "  \"\"\"Entry point for launching an IPython kernel.\n"
     ]
    }
   ],
   "source": [
    "train['question2']=train['question2'].astype(str)"
   ]
  },
  {
   "cell_type": "code",
   "execution_count": 78,
   "id": "7165d2d6",
   "metadata": {},
   "outputs": [
    {
     "name": "stderr",
     "output_type": "stream",
     "text": [
      "C:\\ProgramData\\Anaconda3\\envs\\newEnv\\lib\\site-packages\\ipykernel_launcher.py:1: SettingWithCopyWarning: \n",
      "A value is trying to be set on a copy of a slice from a DataFrame.\n",
      "Try using .loc[row_indexer,col_indexer] = value instead\n",
      "\n",
      "See the caveats in the documentation: https://pandas.pydata.org/pandas-docs/stable/user_guide/indexing.html#returning-a-view-versus-a-copy\n",
      "  \"\"\"Entry point for launching an IPython kernel.\n",
      "C:\\ProgramData\\Anaconda3\\envs\\newEnv\\lib\\site-packages\\ipykernel_launcher.py:2: SettingWithCopyWarning: \n",
      "A value is trying to be set on a copy of a slice from a DataFrame.\n",
      "Try using .loc[row_indexer,col_indexer] = value instead\n",
      "\n",
      "See the caveats in the documentation: https://pandas.pydata.org/pandas-docs/stable/user_guide/indexing.html#returning-a-view-versus-a-copy\n",
      "  \n"
     ]
    }
   ],
   "source": [
    "train['q1'] = train['question1'].apply(clean_text1)\n",
    "train['q2'] = train['question2'].apply(clean_text1)"
   ]
  },
  {
   "cell_type": "code",
   "execution_count": 79,
   "id": "1e6fb30e",
   "metadata": {},
   "outputs": [
    {
     "data": {
      "text/html": [
       "<div>\n",
       "<style scoped>\n",
       "    .dataframe tbody tr th:only-of-type {\n",
       "        vertical-align: middle;\n",
       "    }\n",
       "\n",
       "    .dataframe tbody tr th {\n",
       "        vertical-align: top;\n",
       "    }\n",
       "\n",
       "    .dataframe thead th {\n",
       "        text-align: right;\n",
       "    }\n",
       "</style>\n",
       "<table border=\"1\" class=\"dataframe\">\n",
       "  <thead>\n",
       "    <tr style=\"text-align: right;\">\n",
       "      <th></th>\n",
       "      <th>question1</th>\n",
       "      <th>question2</th>\n",
       "      <th>is_duplicate</th>\n",
       "      <th>q1</th>\n",
       "      <th>q2</th>\n",
       "    </tr>\n",
       "  </thead>\n",
       "  <tbody>\n",
       "    <tr>\n",
       "      <th>2586</th>\n",
       "      <td>Which are the best dancing bollywood songs for...</td>\n",
       "      <td>What are the best Bollywood farewell songs?</td>\n",
       "      <td>0</td>\n",
       "      <td>best dance bollywood song girl 2015-2016</td>\n",
       "      <td>best bollywood farewell song</td>\n",
       "    </tr>\n",
       "    <tr>\n",
       "      <th>19398</th>\n",
       "      <td>What should I do to impress you?</td>\n",
       "      <td>How do you impress an American?</td>\n",
       "      <td>0</td>\n",
       "      <td>impress</td>\n",
       "      <td>impress american</td>\n",
       "    </tr>\n",
       "    <tr>\n",
       "      <th>19946</th>\n",
       "      <td>What is the difference between schizophrenia a...</td>\n",
       "      <td>How is schizophrenia differentiated from psych...</td>\n",
       "      <td>1</td>\n",
       "      <td>difference schizophrenia psychosis</td>\n",
       "      <td>schizophrenia differentiate psychosis</td>\n",
       "    </tr>\n",
       "    <tr>\n",
       "      <th>25247</th>\n",
       "      <td>What does Gary Johnson have to do to have a ch...</td>\n",
       "      <td>Does Gary Johnson have any chance left at winn...</td>\n",
       "      <td>1</td>\n",
       "      <td>gary johnson chance win november</td>\n",
       "      <td>gary johnson chance left win presidency</td>\n",
       "    </tr>\n",
       "    <tr>\n",
       "      <th>54090</th>\n",
       "      <td>What are some countries that were democracies ...</td>\n",
       "      <td>Is it easier for a country to become a democra...</td>\n",
       "      <td>0</td>\n",
       "      <td>country democracy become dictatorship happen</td>\n",
       "      <td>easy country become democracy dictatorship eas...</td>\n",
       "    </tr>\n",
       "    <tr>\n",
       "      <th>...</th>\n",
       "      <td>...</td>\n",
       "      <td>...</td>\n",
       "      <td>...</td>\n",
       "      <td>...</td>\n",
       "      <td>...</td>\n",
       "    </tr>\n",
       "    <tr>\n",
       "      <th>22613</th>\n",
       "      <td>What is the best way to lose weight and not ga...</td>\n",
       "      <td>What is the best guide to lose unwanted pounds?</td>\n",
       "      <td>1</td>\n",
       "      <td>best way lose weight gain back</td>\n",
       "      <td>best guide lose unwanted pound</td>\n",
       "    </tr>\n",
       "    <tr>\n",
       "      <th>14824</th>\n",
       "      <td>When will i get my withdrawl bleeding its been...</td>\n",
       "      <td>How much time does the cranial nerve take to g...</td>\n",
       "      <td>0</td>\n",
       "      <td>get withdrawl bleeding 7 day since take unwant...</td>\n",
       "      <td>much time cranial nerve take get strong</td>\n",
       "    </tr>\n",
       "    <tr>\n",
       "      <th>36859</th>\n",
       "      <td>Fashion E-commerce: Why does ZARA  not sell on...</td>\n",
       "      <td>What does Zara stand for?</td>\n",
       "      <td>0</td>\n",
       "      <td>fashion e-commerce zara sell online india</td>\n",
       "      <td>zara stand</td>\n",
       "    </tr>\n",
       "    <tr>\n",
       "      <th>53207</th>\n",
       "      <td>What is a good Warrior Cat name for an apprent...</td>\n",
       "      <td>What is a good Warrior Cat name for an apprent...</td>\n",
       "      <td>0</td>\n",
       "      <td>good warrior cat name apprentice name rosepaw</td>\n",
       "      <td>good warrior cat name apprentice name</td>\n",
       "    </tr>\n",
       "    <tr>\n",
       "      <th>48378</th>\n",
       "      <td>Why are former British colonies doing so well ...</td>\n",
       "      <td>Why is cricket not popular in the US despite b...</td>\n",
       "      <td>0</td>\n",
       "      <td>former british colony well compare spanish por...</td>\n",
       "      <td>cricket popular u despite part former british ...</td>\n",
       "    </tr>\n",
       "  </tbody>\n",
       "</table>\n",
       "<p>47896 rows × 5 columns</p>\n",
       "</div>"
      ],
      "text/plain": [
       "                                               question1  \\\n",
       "2586   Which are the best dancing bollywood songs for...   \n",
       "19398                   What should I do to impress you?   \n",
       "19946  What is the difference between schizophrenia a...   \n",
       "25247  What does Gary Johnson have to do to have a ch...   \n",
       "54090  What are some countries that were democracies ...   \n",
       "...                                                  ...   \n",
       "22613  What is the best way to lose weight and not ga...   \n",
       "14824  When will i get my withdrawl bleeding its been...   \n",
       "36859  Fashion E-commerce: Why does ZARA  not sell on...   \n",
       "53207  What is a good Warrior Cat name for an apprent...   \n",
       "48378  Why are former British colonies doing so well ...   \n",
       "\n",
       "                                               question2  is_duplicate  \\\n",
       "2586         What are the best Bollywood farewell songs?             0   \n",
       "19398                    How do you impress an American?             0   \n",
       "19946  How is schizophrenia differentiated from psych...             1   \n",
       "25247  Does Gary Johnson have any chance left at winn...             1   \n",
       "54090  Is it easier for a country to become a democra...             0   \n",
       "...                                                  ...           ...   \n",
       "22613    What is the best guide to lose unwanted pounds?             1   \n",
       "14824  How much time does the cranial nerve take to g...             0   \n",
       "36859                          What does Zara stand for?             0   \n",
       "53207  What is a good Warrior Cat name for an apprent...             0   \n",
       "48378  Why is cricket not popular in the US despite b...             0   \n",
       "\n",
       "                                                      q1  \\\n",
       "2586            best dance bollywood song girl 2015-2016   \n",
       "19398                                            impress   \n",
       "19946                 difference schizophrenia psychosis   \n",
       "25247                   gary johnson chance win november   \n",
       "54090       country democracy become dictatorship happen   \n",
       "...                                                  ...   \n",
       "22613                     best way lose weight gain back   \n",
       "14824  get withdrawl bleeding 7 day since take unwant...   \n",
       "36859          fashion e-commerce zara sell online india   \n",
       "53207      good warrior cat name apprentice name rosepaw   \n",
       "48378  former british colony well compare spanish por...   \n",
       "\n",
       "                                                      q2  \n",
       "2586                        best bollywood farewell song  \n",
       "19398                                   impress american  \n",
       "19946              schizophrenia differentiate psychosis  \n",
       "25247            gary johnson chance left win presidency  \n",
       "54090  easy country become democracy dictatorship eas...  \n",
       "...                                                  ...  \n",
       "22613                     best guide lose unwanted pound  \n",
       "14824            much time cranial nerve take get strong  \n",
       "36859                                         zara stand  \n",
       "53207              good warrior cat name apprentice name  \n",
       "48378  cricket popular u despite part former british ...  \n",
       "\n",
       "[47896 rows x 5 columns]"
      ]
     },
     "execution_count": 79,
     "metadata": {},
     "output_type": "execute_result"
    }
   ],
   "source": [
    "train"
   ]
  },
  {
   "cell_type": "code",
   "execution_count": 80,
   "id": "2a1325a7",
   "metadata": {},
   "outputs": [
    {
     "data": {
      "text/plain": [
       "(37, 96)"
      ]
     },
     "execution_count": 80,
     "metadata": {},
     "output_type": "execute_result"
    }
   ],
   "source": [
    "max_len_q1 = np.max(train[\"q1\"].apply(lambda x: len(x.split())))\n",
    "max_len_q2 = np.max(train[\"q2\"].apply(lambda x: len(x.split())))\n",
    "max_len_q1, max_len_q2"
   ]
  },
  {
   "cell_type": "code",
   "execution_count": 84,
   "id": "6186fa9a",
   "metadata": {},
   "outputs": [],
   "source": [
    "train = train.reset_index(drop=True)\n",
    "test = test.reset_index(drop=True)"
   ]
  },
  {
   "cell_type": "code",
   "execution_count": 89,
   "id": "320e98bf",
   "metadata": {},
   "outputs": [],
   "source": [
    "test['q1'] = test['question1'].apply(clean_text1)\n",
    "test['q2'] = test['question2'].apply(clean_text1)"
   ]
  },
  {
   "cell_type": "markdown",
   "id": "69d5fe76",
   "metadata": {},
   "source": [
    "## Tokenization"
   ]
  },
  {
   "cell_type": "code",
   "execution_count": 90,
   "id": "bd7783a1",
   "metadata": {},
   "outputs": [],
   "source": [
    "MAX_NB_WORDS = 205000\n",
    "\n",
    "tokenizer = Tokenizer(num_words = MAX_NB_WORDS)\n",
    "\n",
    "tokenizer.fit_on_texts(list(train['q1'].values.astype(str))+list(train['q2'].values.astype(str)))\n",
    "\n",
    "\n",
    "X_train_q1 = tokenizer.texts_to_sequences(train['q1'].values.astype(str))\n",
    "X_train_q1 = pad_sequences(X_train_q1, maxlen = 30, padding = 'post')\n",
    "\n",
    "X_train_q2 = tokenizer.texts_to_sequences(train['q2'].values.astype(str))\n",
    "X_train_q2 = pad_sequences(X_train_q2, maxlen = 30, padding = 'post')\n",
    "\n",
    "X_test_q1 = tokenizer.texts_to_sequences(test['q1'].ravel())\n",
    "X_test_q1 = pad_sequences(X_test_q1,maxlen = 30, padding='post')\n",
    "\n",
    "X_test_q2 = tokenizer.texts_to_sequences(test['q2'].astype(str).ravel())\n",
    "X_test_q2 = pad_sequences(X_test_q2, maxlen = 30, padding='post')"
   ]
  },
  {
   "cell_type": "code",
   "execution_count": 91,
   "id": "ffea8e99",
   "metadata": {},
   "outputs": [],
   "source": [
    "y = train['is_duplicate']"
   ]
  },
  {
   "cell_type": "code",
   "execution_count": 92,
   "id": "3c70e6ae",
   "metadata": {},
   "outputs": [],
   "source": [
    "y_test = test['is_duplicate']"
   ]
  },
  {
   "cell_type": "code",
   "execution_count": 93,
   "id": "f441fe35",
   "metadata": {},
   "outputs": [],
   "source": [
    "vocab_size = len(tokenizer.word_index) + 1"
   ]
  },
  {
   "cell_type": "markdown",
   "id": "08e1f6f0",
   "metadata": {},
   "source": [
    "## Word Embedding using GloVe"
   ]
  },
  {
   "cell_type": "code",
   "execution_count": 95,
   "id": "2d4704eb",
   "metadata": {},
   "outputs": [],
   "source": [
    "import os"
   ]
  },
  {
   "cell_type": "code",
   "execution_count": 97,
   "id": "253bc4f9",
   "metadata": {},
   "outputs": [
    {
     "name": "stderr",
     "output_type": "stream",
     "text": [
      "400000it [00:19, 20272.64it/s]\n"
     ]
    }
   ],
   "source": [
    "glove_dir = 'C:\\\\Users\\\\Asus\\\\Documents\\\\Deep Learning\\\\NLP\\\\quora-question-pairs (1)\\\\glove.6B'\n",
    "\n",
    "embeddings_index = {}\n",
    "\n",
    "glovefile = open('C:\\\\Users\\\\Asus\\\\Documents\\\\Deep Learning\\\\NLP\\\\quora-question-pairs (1)\\\\glove.6B\\\\glove.6B.200d.txt','r',encoding='utf-8')\n",
    "for line in tqdm(glovefile):\n",
    "    values = line.split(\" \")\n",
    "    word = values[0]\n",
    "    coefs = np.asarray(values[1:], dtype='float32')\n",
    "#     coefs.shape\n",
    "    embeddings_index[word] = coefs\n",
    "glovefile.close()"
   ]
  },
  {
   "cell_type": "code",
   "execution_count": 98,
   "id": "7b133e7f",
   "metadata": {},
   "outputs": [
    {
     "name": "stdout",
     "output_type": "stream",
     "text": [
      "Found 400000 word vectors.\n"
     ]
    }
   ],
   "source": [
    "print('Found %s word vectors.' % len(embeddings_index))\n"
   ]
  },
  {
   "cell_type": "code",
   "execution_count": 99,
   "id": "e0e9d965",
   "metadata": {},
   "outputs": [
    {
     "name": "stderr",
     "output_type": "stream",
     "text": [
      "100%|██████████| 24888/24888 [00:00<00:00, 622063.41it/s]\n"
     ]
    }
   ],
   "source": [
    "embedding_matrix = np.zeros((len(tokenizer.word_index)+1, 200))\n",
    "for words, index in tqdm(tokenizer.word_index.items()):\n",
    "    embedding_vector = embeddings_index.get(word)\n",
    "    if embedding_vector is not None:\n",
    "        embedding_matrix[index] = embedding_vector"
   ]
  },
  {
   "cell_type": "code",
   "execution_count": 100,
   "id": "30de5fd9",
   "metadata": {},
   "outputs": [
    {
     "name": "stdout",
     "output_type": "stream",
     "text": [
      "(38316, 30) (38316, 30) (38316,)\n",
      "(9580, 30) (9580, 30) (9580,)\n"
     ]
    }
   ],
   "source": [
    "#Validation split\n",
    "\n",
    "X_train_q1,X_valid_q1, X_train_q2, X_valid_q2, y_train, y_valid = train_test_split(X_train_q1, X_train_q2, y, \n",
    "                                                                                   test_size=0.20, random_state=12)\n",
    "print(X_train_q1.shape, X_train_q2.shape, y_train.shape)\n",
    "print(X_valid_q1.shape, X_valid_q2.shape, y_valid.shape)"
   ]
  },
  {
   "cell_type": "code",
   "execution_count": 102,
   "id": "c64880d3",
   "metadata": {},
   "outputs": [],
   "source": [
    "from tensorflow.keras import regularizers"
   ]
  },
  {
   "cell_type": "code",
   "execution_count": 106,
   "id": "3e7f43d2",
   "metadata": {},
   "outputs": [],
   "source": [
    "from keras import layers"
   ]
  },
  {
   "cell_type": "code",
   "execution_count": 116,
   "id": "e2060829",
   "metadata": {},
   "outputs": [],
   "source": [
    "from tensorflow.keras.layers import Bidirectional"
   ]
  },
  {
   "cell_type": "code",
   "execution_count": 237,
   "id": "d8d93442",
   "metadata": {},
   "outputs": [],
   "source": [
    "# Model for Q1\n",
    "\n",
    "model_q1 = Sequential()"
   ]
  },
  {
   "cell_type": "code",
   "execution_count": 238,
   "id": "1156bda7",
   "metadata": {},
   "outputs": [],
   "source": [
    "model_q1.add(Embedding(input_dim = vocab_size,output_dim = 200,input_length = 30))\n",
    "model_q1.add(Bidirectional(LSTM(32, return_sequences = True)))\n",
    "model_q1.add(Bidirectional(LSTM(32, return_sequences = True)))\n",
    "model_q1.add(Bidirectional(LSTM(32, return_sequences = True)))\n",
    "model_q1.add(Dense(60, activation = 'tanh', kernel_regularizer=tf.keras.regularizers.l1(0.005)))\n",
    "model_q1.add(Dense(2, activation='sigmoid'))"
   ]
  },
  {
   "cell_type": "code",
   "execution_count": 239,
   "id": "aebf8bc2",
   "metadata": {},
   "outputs": [
    {
     "name": "stdout",
     "output_type": "stream",
     "text": [
      "Model: \"sequential_13\"\n",
      "_________________________________________________________________\n",
      "Layer (type)                 Output Shape              Param #   \n",
      "=================================================================\n",
      "embedding_13 (Embedding)     (None, 30, 200)           4977800   \n",
      "_________________________________________________________________\n",
      "bidirectional_44 (Bidirectio (None, 30, 64)            59648     \n",
      "_________________________________________________________________\n",
      "bidirectional_45 (Bidirectio (None, 30, 64)            24832     \n",
      "_________________________________________________________________\n",
      "bidirectional_46 (Bidirectio (None, 30, 64)            24832     \n",
      "_________________________________________________________________\n",
      "dense_30 (Dense)             (None, 30, 60)            3900      \n",
      "_________________________________________________________________\n",
      "dense_31 (Dense)             (None, 30, 2)             122       \n",
      "=================================================================\n",
      "Total params: 5,091,134\n",
      "Trainable params: 5,091,134\n",
      "Non-trainable params: 0\n",
      "_________________________________________________________________\n"
     ]
    }
   ],
   "source": [
    "model_q1.summary()"
   ]
  },
  {
   "cell_type": "code",
   "execution_count": 240,
   "id": "31c2d338",
   "metadata": {},
   "outputs": [],
   "source": [
    "model_q1.layers[0].set_weights([embedding_matrix])\n",
    "model_q1.layers[0].trainable=False"
   ]
  },
  {
   "cell_type": "code",
   "execution_count": 241,
   "id": "84c89f9c",
   "metadata": {},
   "outputs": [
    {
     "name": "stdout",
     "output_type": "stream",
     "text": [
      "Model: \"sequential_13\"\n",
      "_________________________________________________________________\n",
      "Layer (type)                 Output Shape              Param #   \n",
      "=================================================================\n",
      "embedding_13 (Embedding)     (None, 30, 200)           4977800   \n",
      "_________________________________________________________________\n",
      "bidirectional_44 (Bidirectio (None, 30, 64)            59648     \n",
      "_________________________________________________________________\n",
      "bidirectional_45 (Bidirectio (None, 30, 64)            24832     \n",
      "_________________________________________________________________\n",
      "bidirectional_46 (Bidirectio (None, 30, 64)            24832     \n",
      "_________________________________________________________________\n",
      "dense_30 (Dense)             (None, 30, 60)            3900      \n",
      "_________________________________________________________________\n",
      "dense_31 (Dense)             (None, 30, 2)             122       \n",
      "=================================================================\n",
      "Total params: 5,091,134\n",
      "Trainable params: 113,334\n",
      "Non-trainable params: 4,977,800\n",
      "_________________________________________________________________\n"
     ]
    }
   ],
   "source": [
    "model_q1.summary()"
   ]
  },
  {
   "cell_type": "markdown",
   "id": "0f0ef01f",
   "metadata": {},
   "source": [
    "## Building model"
   ]
  },
  {
   "cell_type": "code",
   "execution_count": 244,
   "id": "13e844a2",
   "metadata": {},
   "outputs": [],
   "source": [
    "# Model for Q2\n",
    "\n",
    "model_q2 = Sequential()"
   ]
  },
  {
   "cell_type": "code",
   "execution_count": 245,
   "id": "b4e7bccd",
   "metadata": {},
   "outputs": [],
   "source": [
    "model_q2.add(Embedding(input_dim = vocab_size,output_dim = 200,input_length = 30))\n",
    "model_q2.add(Bidirectional(LSTM(32, return_sequences = True)))\n",
    "model_q2.add(Bidirectional(LSTM(32, return_sequences = True)))\n",
    "model_q2.add(Bidirectional(LSTM(32, return_sequences = True)))\n",
    "model_q2.add(Dense(60, activation = 'tanh', kernel_regularizer=tf.keras.regularizers.l1(0.005)))\n",
    "model_q2.add(Dense(2, activation='sigmoid'))"
   ]
  },
  {
   "cell_type": "code",
   "execution_count": 246,
   "id": "2813cd86",
   "metadata": {},
   "outputs": [],
   "source": [
    "model_q2.layers[0].set_weights([embedding_matrix])\n",
    "model_q2.layers[0].trainable=False"
   ]
  },
  {
   "cell_type": "code",
   "execution_count": 247,
   "id": "c8991fba",
   "metadata": {},
   "outputs": [
    {
     "name": "stdout",
     "output_type": "stream",
     "text": [
      "Model: \"sequential_14\"\n",
      "_________________________________________________________________\n",
      "Layer (type)                 Output Shape              Param #   \n",
      "=================================================================\n",
      "embedding_15 (Embedding)     (None, 30, 200)           4977800   \n",
      "_________________________________________________________________\n",
      "bidirectional_47 (Bidirectio (None, 30, 64)            59648     \n",
      "_________________________________________________________________\n",
      "bidirectional_48 (Bidirectio (None, 30, 64)            24832     \n",
      "_________________________________________________________________\n",
      "bidirectional_49 (Bidirectio (None, 30, 64)            24832     \n",
      "_________________________________________________________________\n",
      "dense_32 (Dense)             (None, 30, 60)            3900      \n",
      "_________________________________________________________________\n",
      "dense_33 (Dense)             (None, 30, 2)             122       \n",
      "=================================================================\n",
      "Total params: 5,091,134\n",
      "Trainable params: 113,334\n",
      "Non-trainable params: 4,977,800\n",
      "_________________________________________________________________\n"
     ]
    }
   ],
   "source": [
    "model_q2.summary()"
   ]
  },
  {
   "cell_type": "code",
   "execution_count": 248,
   "id": "7edb9955",
   "metadata": {},
   "outputs": [],
   "source": [
    "from keras.models import Model \n",
    "from keras.models import Sequential\n",
    "from keras.callbacks import EarlyStopping\n",
    "from keras.callbacks import ModelCheckpoint, ReduceLROnPlateau\n",
    "from keras.layers.normalization import BatchNormalization\n",
    "from keras.preprocessing.text import Tokenizer\n",
    "from keras.layers import LSTM, Dense, Bidirectional\n",
    "from keras.layers import Dropout, SpatialDropout1D, TimeDistributed,Flatten, GlobalMaxPool1D\n",
    "from keras.layers import Embedding"
   ]
  },
  {
   "cell_type": "code",
   "execution_count": 249,
   "id": "253b8d6d",
   "metadata": {},
   "outputs": [],
   "source": [
    "# Merging the output of the two models,i.e, model_q1 and model_q2\n",
    "mergedOut = multiply([model_q1.output, model_q2.output])\n",
    "\n",
    "mergedOut = Flatten()(mergedOut)\n",
    "mergedOut = Dense(100, activation = 'relu')(mergedOut)\n",
    "mergedOut = Dropout(0.2)(mergedOut)\n",
    "mergedOut = Dense(50, activation = 'relu', kernel_regularizer=tf.keras.regularizers.l2(0.001))(mergedOut)\n",
    "mergedOut = Dropout(0.2)(mergedOut)\n",
    "mergedOut = Dense(2, batch_size=32, activation = 'sigmoid')(mergedOut)"
   ]
  },
  {
   "cell_type": "code",
   "execution_count": 250,
   "id": "aaf0ff61",
   "metadata": {},
   "outputs": [
    {
     "data": {
      "text/plain": [
       "<tf.Tensor 'dense_31/Sigmoid:0' shape=(None, 30, 2) dtype=float32>"
      ]
     },
     "execution_count": 250,
     "metadata": {},
     "output_type": "execute_result"
    }
   ],
   "source": [
    "model_q1.output"
   ]
  },
  {
   "cell_type": "code",
   "execution_count": 251,
   "id": "f21bc325",
   "metadata": {},
   "outputs": [
    {
     "data": {
      "text/plain": [
       "<tf.Tensor 'dense_36/Sigmoid:0' shape=(None, 2) dtype=float32>"
      ]
     },
     "execution_count": 251,
     "metadata": {},
     "output_type": "execute_result"
    }
   ],
   "source": [
    "mergedOut "
   ]
  },
  {
   "cell_type": "code",
   "execution_count": 253,
   "id": "2bbf54c2",
   "metadata": {},
   "outputs": [
    {
     "name": "stdout",
     "output_type": "stream",
     "text": [
      "Model: \"model_3\"\n",
      "__________________________________________________________________________________________________\n",
      "Layer (type)                    Output Shape         Param #     Connected to                     \n",
      "==================================================================================================\n",
      "embedding_13_input (InputLayer) (None, 30)           0                                            \n",
      "__________________________________________________________________________________________________\n",
      "embedding_15_input (InputLayer) (None, 30)           0                                            \n",
      "__________________________________________________________________________________________________\n",
      "embedding_13 (Embedding)        (None, 30, 200)      4977800     embedding_13_input[0][0]         \n",
      "__________________________________________________________________________________________________\n",
      "embedding_15 (Embedding)        (None, 30, 200)      4977800     embedding_15_input[0][0]         \n",
      "__________________________________________________________________________________________________\n",
      "bidirectional_44 (Bidirectional (None, 30, 64)       59648       embedding_13[0][0]               \n",
      "__________________________________________________________________________________________________\n",
      "bidirectional_47 (Bidirectional (None, 30, 64)       59648       embedding_15[0][0]               \n",
      "__________________________________________________________________________________________________\n",
      "bidirectional_45 (Bidirectional (None, 30, 64)       24832       bidirectional_44[0][0]           \n",
      "__________________________________________________________________________________________________\n",
      "bidirectional_48 (Bidirectional (None, 30, 64)       24832       bidirectional_47[0][0]           \n",
      "__________________________________________________________________________________________________\n",
      "bidirectional_46 (Bidirectional (None, 30, 64)       24832       bidirectional_45[0][0]           \n",
      "__________________________________________________________________________________________________\n",
      "bidirectional_49 (Bidirectional (None, 30, 64)       24832       bidirectional_48[0][0]           \n",
      "__________________________________________________________________________________________________\n",
      "dense_30 (Dense)                (None, 30, 60)       3900        bidirectional_46[0][0]           \n",
      "__________________________________________________________________________________________________\n",
      "dense_32 (Dense)                (None, 30, 60)       3900        bidirectional_49[0][0]           \n",
      "__________________________________________________________________________________________________\n",
      "dense_31 (Dense)                (None, 30, 2)        122         dense_30[0][0]                   \n",
      "__________________________________________________________________________________________________\n",
      "dense_33 (Dense)                (None, 30, 2)        122         dense_32[0][0]                   \n",
      "__________________________________________________________________________________________________\n",
      "multiply_13 (Multiply)          (None, 30, 2)        0           dense_31[0][0]                   \n",
      "                                                                 dense_33[0][0]                   \n",
      "__________________________________________________________________________________________________\n",
      "flatten_7 (Flatten)             (None, 60)           0           multiply_13[0][0]                \n",
      "__________________________________________________________________________________________________\n",
      "dense_34 (Dense)                (None, 100)          6100        flatten_7[0][0]                  \n",
      "__________________________________________________________________________________________________\n",
      "dropout_5 (Dropout)             (None, 100)          0           dense_34[0][0]                   \n",
      "__________________________________________________________________________________________________\n",
      "dense_35 (Dense)                (None, 50)           5050        dropout_5[0][0]                  \n",
      "__________________________________________________________________________________________________\n",
      "dropout_6 (Dropout)             (None, 50)           0           dense_35[0][0]                   \n",
      "__________________________________________________________________________________________________\n",
      "dense_36 (Dense)                (None, 2)            102         dropout_6[0][0]                  \n",
      "==================================================================================================\n",
      "Total params: 10,193,520\n",
      "Trainable params: 237,920\n",
      "Non-trainable params: 9,955,600\n",
      "__________________________________________________________________________________________________\n"
     ]
    }
   ],
   "source": [
    "new_model.summary()"
   ]
  },
  {
   "cell_type": "markdown",
   "id": "063f200b",
   "metadata": {},
   "source": [
    "### COMPILATION "
   ]
  },
  {
   "cell_type": "code",
   "execution_count": 252,
   "id": "18773fa9",
   "metadata": {},
   "outputs": [],
   "source": [
    "new_model = Model([model_q1.input, model_q2.input], mergedOut)\n",
    "new_model.compile(optimizer = 'adam', loss = 'sparse_categorical_crossentropy',\n",
    "                 metrics = ['accuracy'])"
   ]
  },
  {
   "cell_type": "code",
   "execution_count": 254,
   "id": "5d499bf8",
   "metadata": {},
   "outputs": [],
   "source": [
    "from keras.callbacks import EarlyStopping"
   ]
  },
  {
   "cell_type": "code",
   "execution_count": 255,
   "id": "1b925006",
   "metadata": {},
   "outputs": [],
   "source": [
    "es = EarlyStopping(monitor='val_acc', mode='max', verbose=1, patience=7)"
   ]
  },
  {
   "cell_type": "code",
   "execution_count": 256,
   "id": "8c1ead0e",
   "metadata": {},
   "outputs": [
    {
     "name": "stdout",
     "output_type": "stream",
     "text": [
      "Train on 38316 samples, validate on 9580 samples\n",
      "Epoch 1/20\n",
      "38316/38316 [==============================] - 10s 249us/step - loss: 4.6466 - accuracy: 0.5401 - val_loss: 4.2301 - val_accuracy: 0.6001\n",
      "Epoch 2/20\n"
     ]
    },
    {
     "name": "stderr",
     "output_type": "stream",
     "text": [
      "C:\\ProgramData\\Anaconda3\\envs\\newEnv\\lib\\site-packages\\keras\\callbacks\\callbacks.py:846: RuntimeWarning: Early stopping conditioned on metric `val_acc` which is not available. Available metrics are: val_loss,val_accuracy,loss,accuracy\n",
      "  (self.monitor, ','.join(list(logs.keys()))), RuntimeWarning\n"
     ]
    },
    {
     "name": "stdout",
     "output_type": "stream",
     "text": [
      "38316/38316 [==============================] - 5s 138us/step - loss: 3.9164 - accuracy: 0.5926 - val_loss: 3.5498 - val_accuracy: 0.5986\n",
      "Epoch 3/20\n",
      "38316/38316 [==============================] - 5s 140us/step - loss: 3.2690 - accuracy: 0.6007 - val_loss: 2.9422 - val_accuracy: 0.6004\n",
      "Epoch 4/20\n",
      "38316/38316 [==============================] - 5s 136us/step - loss: 2.6947 - accuracy: 0.6006 - val_loss: 2.4081 - val_accuracy: 0.6014\n",
      "Epoch 5/20\n",
      "38316/38316 [==============================] - 5s 140us/step - loss: 2.1926 - accuracy: 0.5983 - val_loss: 1.9452 - val_accuracy: 0.6007\n",
      "Epoch 6/20\n",
      "38316/38316 [==============================] - 5s 140us/step - loss: 1.7619 - accuracy: 0.6017 - val_loss: 1.5551 - val_accuracy: 0.5979\n",
      "Epoch 7/20\n",
      "38316/38316 [==============================] - 5s 141us/step - loss: 1.4060 - accuracy: 0.6001 - val_loss: 1.2391 - val_accuracy: 0.6002\n",
      "Epoch 8/20\n",
      "38316/38316 [==============================] - 5s 142us/step - loss: 1.1240 - accuracy: 0.6040 - val_loss: 0.9989 - val_accuracy: 0.5984\n",
      "Epoch 9/20\n",
      "38316/38316 [==============================] - 5s 142us/step - loss: 0.9149 - accuracy: 0.6015 - val_loss: 0.8275 - val_accuracy: 0.6005\n",
      "Epoch 10/20\n",
      "38316/38316 [==============================] - 5s 141us/step - loss: 0.7762 - accuracy: 0.6028 - val_loss: 0.7266 - val_accuracy: 0.6055\n",
      "Epoch 11/20\n",
      "38316/38316 [==============================] - 5s 141us/step - loss: 0.7093 - accuracy: 0.5980 - val_loss: 0.6943 - val_accuracy: 0.6008\n",
      "Epoch 12/20\n",
      "38316/38316 [==============================] - 5s 143us/step - loss: 0.6930 - accuracy: 0.5964 - val_loss: 0.6876 - val_accuracy: 0.6007\n",
      "Epoch 13/20\n",
      "38316/38316 [==============================] - 5s 142us/step - loss: 0.6872 - accuracy: 0.5976 - val_loss: 0.6847 - val_accuracy: 0.6016\n",
      "Epoch 14/20\n",
      "38316/38316 [==============================] - 5s 138us/step - loss: 0.6839 - accuracy: 0.6015 - val_loss: 0.6848 - val_accuracy: 0.5947\n",
      "Epoch 15/20\n",
      "38316/38316 [==============================] - 5s 138us/step - loss: 0.6836 - accuracy: 0.5993 - val_loss: 0.6808 - val_accuracy: 0.6010\n",
      "Epoch 16/20\n",
      "38316/38316 [==============================] - 5s 138us/step - loss: 0.6808 - accuracy: 0.6024 - val_loss: 0.6892 - val_accuracy: 0.5634\n",
      "Epoch 17/20\n",
      "38316/38316 [==============================] - 5s 140us/step - loss: 0.6822 - accuracy: 0.6017 - val_loss: 0.6782 - val_accuracy: 0.6068\n",
      "Epoch 18/20\n",
      "38316/38316 [==============================] - 5s 143us/step - loss: 0.6798 - accuracy: 0.6023 - val_loss: 0.6835 - val_accuracy: 0.5999\n",
      "Epoch 19/20\n",
      "38316/38316 [==============================] - 5s 141us/step - loss: 0.6803 - accuracy: 0.6050 - val_loss: 0.6836 - val_accuracy: 0.5905\n",
      "Epoch 20/20\n",
      "38316/38316 [==============================] - 5s 138us/step - loss: 0.6797 - accuracy: 0.6016 - val_loss: 0.6831 - val_accuracy: 0.5876\n"
     ]
    }
   ],
   "source": [
    "history = new_model.fit([X_train_q1,X_train_q2],y_train,\n",
    "                        batch_size = 2000, \n",
    "                        epochs = 20, \n",
    "                        validation_data = ([X_valid_q1,X_valid_q2],y_valid),\n",
    "                        callbacks=[es])"
   ]
  },
  {
   "cell_type": "code",
   "execution_count": 259,
   "id": "50284318",
   "metadata": {},
   "outputs": [
    {
     "data": {
      "image/png": "[encoded data removed]",
      "text/plain": [
       "<Figure size 432x288 with 1 Axes>"
      ]
     },
     "metadata": {
      "needs_background": "light"
     },
     "output_type": "display_data"
    },
    {
     "data": {
      "image/png": "[encoded data removed]",
      "text/plain": [
       "<Figure size 432x288 with 1 Axes>"
      ]
     },
     "metadata": {
      "needs_background": "light"
     },
     "output_type": "display_data"
    }
   ],
   "source": [
    "import matplotlib.pyplot as plt\n",
    "acc = history.history['accuracy']\n",
    "val_acc = history.history['val_accuracy']\n",
    "loss = history.history['loss']\n",
    "val_loss = history.history['val_loss']\n",
    "epochs = range(1, len(acc) + 1)\n",
    "plt.plot(epochs, acc, 'bo', label='Training accuracy')\n",
    "plt.plot(epochs, val_acc, 'b', label='Validation acc')\n",
    "plt.title('Training and validation accuracy')\n",
    "plt.legend()\n",
    "plt.figure()\n",
    "plt.plot(epochs, loss, 'bo', label='Training loss')\n",
    "plt.plot(epochs, val_loss, 'b', label='Validation loss')\n",
    "plt.title('Training and validation loss')\n",
    "plt.legend()\n",
    "plt.show()"
   ]
  },
  {
   "cell_type": "code",
   "execution_count": 260,
   "id": "9809ad48",
   "metadata": {
    "scrolled": false
   },
   "outputs": [
    {
     "name": "stdout",
     "output_type": "stream",
     "text": [
      "Train on 38316 samples, validate on 9580 samples\n",
      "Epoch 1/100\n",
      "38316/38316 [==============================] - 5s 136us/step - loss: 0.6786 - accuracy: 0.6021 - val_loss: 0.6760 - val_accuracy: 0.6096\n",
      "Epoch 2/100\n",
      "38316/38316 [==============================] - 5s 139us/step - loss: 0.6761 - accuracy: 0.6038 - val_loss: 0.6755 - val_accuracy: 0.6074\n",
      "Epoch 3/100\n",
      "38316/38316 [==============================] - 5s 137us/step - loss: 0.6765 - accuracy: 0.6030 - val_loss: 0.6757 - val_accuracy: 0.6048\n",
      "Epoch 4/100\n",
      "38316/38316 [==============================] - 5s 140us/step - loss: 0.6755 - accuracy: 0.6042 - val_loss: 0.6766 - val_accuracy: 0.6042\n",
      "Epoch 5/100\n",
      "38316/38316 [==============================] - 5s 139us/step - loss: 0.6760 - accuracy: 0.6030 - val_loss: 0.6740 - val_accuracy: 0.6084\n",
      "Epoch 6/100\n",
      "38316/38316 [==============================] - 5s 136us/step - loss: 0.6747 - accuracy: 0.6053 - val_loss: 0.6809 - val_accuracy: 0.5926\n",
      "Epoch 7/100\n",
      "38316/38316 [==============================] - 5s 137us/step - loss: 0.6786 - accuracy: 0.6003 - val_loss: 0.6756 - val_accuracy: 0.6048\n",
      "Epoch 8/100\n",
      "38316/38316 [==============================] - 5s 139us/step - loss: 0.6731 - accuracy: 0.6078 - val_loss: 0.6728 - val_accuracy: 0.6104\n",
      "Epoch 9/100\n",
      "38316/38316 [==============================] - 5s 139us/step - loss: 0.6727 - accuracy: 0.6082 - val_loss: 0.6727 - val_accuracy: 0.6077\n",
      "Epoch 10/100\n",
      "38316/38316 [==============================] - 5s 141us/step - loss: 0.6726 - accuracy: 0.6058 - val_loss: 0.6727 - val_accuracy: 0.6096\n",
      "Epoch 11/100\n",
      "38316/38316 [==============================] - 5s 140us/step - loss: 0.6721 - accuracy: 0.6086 - val_loss: 0.6759 - val_accuracy: 0.6022\n",
      "Epoch 12/100\n",
      "38316/38316 [==============================] - 5s 139us/step - loss: 0.6734 - accuracy: 0.6059 - val_loss: 0.6717 - val_accuracy: 0.6096\n",
      "Epoch 13/100\n",
      "38316/38316 [==============================] - 5s 141us/step - loss: 0.6705 - accuracy: 0.6092 - val_loss: 0.6735 - val_accuracy: 0.6047\n",
      "Epoch 14/100\n",
      "38316/38316 [==============================] - 5s 141us/step - loss: 0.6717 - accuracy: 0.6090 - val_loss: 0.6708 - val_accuracy: 0.6066\n",
      "Epoch 15/100\n",
      "38316/38316 [==============================] - 5s 140us/step - loss: 0.6719 - accuracy: 0.6057 - val_loss: 0.6723 - val_accuracy: 0.6075\n",
      "Epoch 16/100\n",
      "38316/38316 [==============================] - 6s 145us/step - loss: 0.6728 - accuracy: 0.6070 - val_loss: 0.6726 - val_accuracy: 0.6032\n",
      "Epoch 17/100\n",
      "38316/38316 [==============================] - 5s 143us/step - loss: 0.6714 - accuracy: 0.6067 - val_loss: 0.6725 - val_accuracy: 0.6076\n",
      "Epoch 18/100\n",
      "38316/38316 [==============================] - 6s 146us/step - loss: 0.6704 - accuracy: 0.6062 - val_loss: 0.6700 - val_accuracy: 0.6076\n",
      "Epoch 19/100\n",
      "38316/38316 [==============================] - 5s 142us/step - loss: 0.6708 - accuracy: 0.6047 - val_loss: 0.6702 - val_accuracy: 0.6076\n",
      "Epoch 20/100\n",
      "38316/38316 [==============================] - 5s 142us/step - loss: 0.6699 - accuracy: 0.6079 - val_loss: 0.6702 - val_accuracy: 0.6056\n",
      "Epoch 21/100\n",
      "38316/38316 [==============================] - 5s 142us/step - loss: 0.6694 - accuracy: 0.6062 - val_loss: 0.6694 - val_accuracy: 0.6056\n",
      "Epoch 22/100\n",
      "38316/38316 [==============================] - 6s 144us/step - loss: 0.6701 - accuracy: 0.6074 - val_loss: 0.6712 - val_accuracy: 0.6075\n",
      "Epoch 23/100\n",
      "38316/38316 [==============================] - 5s 142us/step - loss: 0.6699 - accuracy: 0.6053 - val_loss: 0.6698 - val_accuracy: 0.6081\n",
      "Epoch 24/100\n",
      "38316/38316 [==============================] - 5s 142us/step - loss: 0.6702 - accuracy: 0.6044 - val_loss: 0.6705 - val_accuracy: 0.6065\n",
      "Epoch 25/100\n",
      "38316/38316 [==============================] - 5s 141us/step - loss: 0.6697 - accuracy: 0.6065 - val_loss: 0.6706 - val_accuracy: 0.6041\n",
      "Epoch 26/100\n",
      "38316/38316 [==============================] - 5s 142us/step - loss: 0.6698 - accuracy: 0.6061 - val_loss: 0.6712 - val_accuracy: 0.6025\n",
      "Epoch 27/100\n",
      "38316/38316 [==============================] - 6s 145us/step - loss: 0.6697 - accuracy: 0.6075 - val_loss: 0.6698 - val_accuracy: 0.6033\n",
      "Epoch 28/100\n",
      "38316/38316 [==============================] - 5s 143us/step - loss: 0.6686 - accuracy: 0.6076 - val_loss: 0.6708 - val_accuracy: 0.6056\n",
      "Epoch 29/100\n",
      "38316/38316 [==============================] - 5s 143us/step - loss: 0.6688 - accuracy: 0.6048 - val_loss: 0.6690 - val_accuracy: 0.6059\n",
      "Epoch 30/100\n",
      "38316/38316 [==============================] - 6s 147us/step - loss: 0.6684 - accuracy: 0.6051 - val_loss: 0.6691 - val_accuracy: 0.6089\n",
      "Epoch 31/100\n",
      "38316/38316 [==============================] - 5s 141us/step - loss: 0.6680 - accuracy: 0.6061 - val_loss: 0.6715 - val_accuracy: 0.6082\n",
      "Epoch 32/100\n",
      "38316/38316 [==============================] - 6s 145us/step - loss: 0.6703 - accuracy: 0.6043 - val_loss: 0.6705 - val_accuracy: 0.6005\n",
      "Epoch 33/100\n",
      "38316/38316 [==============================] - 5s 143us/step - loss: 0.6688 - accuracy: 0.6072 - val_loss: 0.6715 - val_accuracy: 0.6005\n",
      "Epoch 34/100\n",
      "38316/38316 [==============================] - 5s 139us/step - loss: 0.6696 - accuracy: 0.6053 - val_loss: 0.6715 - val_accuracy: 0.6055\n",
      "Epoch 35/100\n",
      "38316/38316 [==============================] - 5s 143us/step - loss: 0.6691 - accuracy: 0.6064 - val_loss: 0.6696 - val_accuracy: 0.6013\n",
      "Epoch 36/100\n",
      "38316/38316 [==============================] - 6s 147us/step - loss: 0.6687 - accuracy: 0.6059 - val_loss: 0.6696 - val_accuracy: 0.6049\n",
      "Epoch 37/100\n",
      "38316/38316 [==============================] - 5s 142us/step - loss: 0.6685 - accuracy: 0.6064 - val_loss: 0.6681 - val_accuracy: 0.6068\n",
      "Epoch 38/100\n",
      "38316/38316 [==============================] - 6s 146us/step - loss: 0.6691 - accuracy: 0.6066 - val_loss: 0.6682 - val_accuracy: 0.6089\n",
      "Epoch 39/100\n",
      "38316/38316 [==============================] - 6s 144us/step - loss: 0.6681 - accuracy: 0.6075 - val_loss: 0.6711 - val_accuracy: 0.5889\n",
      "Epoch 40/100\n",
      "38316/38316 [==============================] - 5s 141us/step - loss: 0.6687 - accuracy: 0.6047 - val_loss: 0.6677 - val_accuracy: 0.6084\n",
      "Epoch 41/100\n",
      "38316/38316 [==============================] - 5s 140us/step - loss: 0.6681 - accuracy: 0.6060 - val_loss: 0.6680 - val_accuracy: 0.6070\n",
      "Epoch 42/100\n",
      "38316/38316 [==============================] - 6s 146us/step - loss: 0.6688 - accuracy: 0.6068 - val_loss: 0.6692 - val_accuracy: 0.6050\n",
      "Epoch 43/100\n",
      "38316/38316 [==============================] - 5s 141us/step - loss: 0.6679 - accuracy: 0.6054 - val_loss: 0.6694 - val_accuracy: 0.6065\n",
      "Epoch 44/100\n",
      "38316/38316 [==============================] - 5s 141us/step - loss: 0.6690 - accuracy: 0.6051 - val_loss: 0.6699 - val_accuracy: 0.6035\n",
      "Epoch 45/100\n",
      "38316/38316 [==============================] - 5s 142us/step - loss: 0.6685 - accuracy: 0.6059 - val_loss: 0.6676 - val_accuracy: 0.6067\n",
      "Epoch 46/100\n",
      "38316/38316 [==============================] - 5s 143us/step - loss: 0.6665 - accuracy: 0.6071 - val_loss: 0.6674 - val_accuracy: 0.6063\n",
      "Epoch 47/100\n",
      "38316/38316 [==============================] - 6s 144us/step - loss: 0.6667 - accuracy: 0.6077 - val_loss: 0.6686 - val_accuracy: 0.6063\n",
      "Epoch 48/100\n",
      "38316/38316 [==============================] - 6s 150us/step - loss: 0.6691 - accuracy: 0.6051 - val_loss: 0.6679 - val_accuracy: 0.6049\n",
      "Epoch 49/100\n",
      "38316/38316 [==============================] - 6s 144us/step - loss: 0.6667 - accuracy: 0.6071 - val_loss: 0.6682 - val_accuracy: 0.6063\n",
      "Epoch 50/100\n",
      "38316/38316 [==============================] - 6s 152us/step - loss: 0.6681 - accuracy: 0.6065 - val_loss: 0.6680 - val_accuracy: 0.6089\n",
      "Epoch 51/100\n",
      "38316/38316 [==============================] - 6s 150us/step - loss: 0.6662 - accuracy: 0.6079 - val_loss: 0.6672 - val_accuracy: 0.6067\n",
      "Epoch 52/100\n",
      "38316/38316 [==============================] - 6s 145us/step - loss: 0.6668 - accuracy: 0.6076 - val_loss: 0.6673 - val_accuracy: 0.6067\n",
      "Epoch 53/100\n",
      "38316/38316 [==============================] - 6s 146us/step - loss: 0.6654 - accuracy: 0.6079 - val_loss: 0.6677 - val_accuracy: 0.6058\n",
      "Epoch 54/100\n",
      "38316/38316 [==============================] - 6s 145us/step - loss: 0.6667 - accuracy: 0.6071 - val_loss: 0.6699 - val_accuracy: 0.6039\n",
      "Epoch 55/100\n"
     ]
    },
    {
     "name": "stdout",
     "output_type": "stream",
     "text": [
      "38316/38316 [==============================] - 5s 143us/step - loss: 0.6686 - accuracy: 0.6054 - val_loss: 0.6710 - val_accuracy: 0.6068\n",
      "Epoch 56/100\n",
      "38316/38316 [==============================] - 5s 143us/step - loss: 0.6670 - accuracy: 0.6062 - val_loss: 0.6689 - val_accuracy: 0.6063\n",
      "Epoch 57/100\n",
      "38316/38316 [==============================] - 6s 145us/step - loss: 0.6669 - accuracy: 0.6061 - val_loss: 0.6669 - val_accuracy: 0.6092\n",
      "Epoch 58/100\n",
      "38316/38316 [==============================] - 5s 143us/step - loss: 0.6664 - accuracy: 0.6072 - val_loss: 0.6681 - val_accuracy: 0.6071\n",
      "Epoch 59/100\n",
      "38316/38316 [==============================] - 6s 144us/step - loss: 0.6678 - accuracy: 0.6071 - val_loss: 0.6680 - val_accuracy: 0.6043\n",
      "Epoch 60/100\n",
      "38316/38316 [==============================] - 5s 141us/step - loss: 0.6672 - accuracy: 0.6068 - val_loss: 0.6677 - val_accuracy: 0.6042\n",
      "Epoch 61/100\n",
      "38316/38316 [==============================] - 5s 142us/step - loss: 0.6678 - accuracy: 0.6055 - val_loss: 0.6676 - val_accuracy: 0.6047\n",
      "Epoch 62/100\n",
      "38316/38316 [==============================] - 5s 142us/step - loss: 0.6661 - accuracy: 0.6072 - val_loss: 0.6667 - val_accuracy: 0.6057\n",
      "Epoch 63/100\n",
      "38316/38316 [==============================] - 5s 143us/step - loss: 0.6661 - accuracy: 0.6074 - val_loss: 0.6666 - val_accuracy: 0.6067\n",
      "Epoch 64/100\n",
      "38316/38316 [==============================] - 5s 142us/step - loss: 0.6649 - accuracy: 0.6065 - val_loss: 0.6668 - val_accuracy: 0.6038\n",
      "Epoch 65/100\n",
      "38316/38316 [==============================] - 6s 145us/step - loss: 0.6663 - accuracy: 0.6064 - val_loss: 0.6666 - val_accuracy: 0.6055\n",
      "Epoch 66/100\n",
      "38316/38316 [==============================] - 5s 143us/step - loss: 0.6650 - accuracy: 0.6070 - val_loss: 0.6680 - val_accuracy: 0.6047\n",
      "Epoch 67/100\n",
      "38316/38316 [==============================] - 5s 143us/step - loss: 0.6659 - accuracy: 0.6078 - val_loss: 0.6673 - val_accuracy: 0.6086\n",
      "Epoch 68/100\n",
      "38316/38316 [==============================] - 6s 144us/step - loss: 0.6655 - accuracy: 0.6084 - val_loss: 0.6666 - val_accuracy: 0.6074\n",
      "Epoch 69/100\n",
      "38316/38316 [==============================] - 5s 143us/step - loss: 0.6663 - accuracy: 0.6076 - val_loss: 0.6670 - val_accuracy: 0.6033\n",
      "Epoch 70/100\n",
      "38316/38316 [==============================] - 5s 142us/step - loss: 0.6669 - accuracy: 0.6068 - val_loss: 0.6669 - val_accuracy: 0.6071\n",
      "Epoch 71/100\n",
      "38316/38316 [==============================] - 5s 142us/step - loss: 0.6656 - accuracy: 0.6067 - val_loss: 0.6669 - val_accuracy: 0.6063\n",
      "Epoch 72/100\n",
      "38316/38316 [==============================] - 5s 140us/step - loss: 0.6662 - accuracy: 0.6061 - val_loss: 0.6661 - val_accuracy: 0.6071\n",
      "Epoch 73/100\n",
      "38316/38316 [==============================] - 5s 142us/step - loss: 0.6652 - accuracy: 0.6048 - val_loss: 0.6683 - val_accuracy: 0.6040\n",
      "Epoch 74/100\n",
      "38316/38316 [==============================] - 6s 145us/step - loss: 0.6665 - accuracy: 0.6063 - val_loss: 0.6662 - val_accuracy: 0.6085\n",
      "Epoch 75/100\n",
      "38316/38316 [==============================] - 5s 141us/step - loss: 0.6655 - accuracy: 0.6086 - val_loss: 0.6663 - val_accuracy: 0.6097\n",
      "Epoch 76/100\n",
      "38316/38316 [==============================] - 6s 147us/step - loss: 0.6660 - accuracy: 0.6075 - val_loss: 0.6674 - val_accuracy: 0.6049\n",
      "Epoch 77/100\n",
      "38316/38316 [==============================] - 5s 143us/step - loss: 0.6664 - accuracy: 0.6056 - val_loss: 0.6661 - val_accuracy: 0.6054\n",
      "Epoch 78/100\n",
      "38316/38316 [==============================] - 6s 145us/step - loss: 0.6656 - accuracy: 0.6065 - val_loss: 0.6667 - val_accuracy: 0.6079\n",
      "Epoch 79/100\n",
      "38316/38316 [==============================] - 6s 144us/step - loss: 0.6651 - accuracy: 0.6069 - val_loss: 0.6654 - val_accuracy: 0.6078\n",
      "Epoch 80/100\n",
      "38316/38316 [==============================] - 6s 146us/step - loss: 0.6661 - accuracy: 0.6078 - val_loss: 0.6671 - val_accuracy: 0.6034\n",
      "Epoch 81/100\n",
      "38316/38316 [==============================] - 5s 141us/step - loss: 0.6662 - accuracy: 0.6059 - val_loss: 0.6673 - val_accuracy: 0.6067\n",
      "Epoch 82/100\n",
      "38316/38316 [==============================] - 5s 142us/step - loss: 0.6652 - accuracy: 0.6080 - val_loss: 0.6681 - val_accuracy: 0.6069\n",
      "Epoch 83/100\n",
      "38316/38316 [==============================] - 6s 144us/step - loss: 0.6650 - accuracy: 0.6095 - val_loss: 0.6660 - val_accuracy: 0.6039\n",
      "Epoch 84/100\n",
      "38316/38316 [==============================] - 6s 146us/step - loss: 0.6652 - accuracy: 0.6068 - val_loss: 0.6659 - val_accuracy: 0.6078\n",
      "Epoch 85/100\n",
      "38316/38316 [==============================] - 6s 144us/step - loss: 0.6666 - accuracy: 0.6065 - val_loss: 0.6652 - val_accuracy: 0.6064\n",
      "Epoch 86/100\n",
      "38316/38316 [==============================] - 5s 143us/step - loss: 0.6636 - accuracy: 0.6081 - val_loss: 0.6647 - val_accuracy: 0.6052\n",
      "Epoch 87/100\n",
      "38316/38316 [==============================] - 6s 144us/step - loss: 0.6639 - accuracy: 0.6067 - val_loss: 0.6650 - val_accuracy: 0.6092\n",
      "Epoch 88/100\n",
      "38316/38316 [==============================] - 6s 145us/step - loss: 0.6638 - accuracy: 0.6089 - val_loss: 0.6670 - val_accuracy: 0.6042\n",
      "Epoch 89/100\n",
      "38316/38316 [==============================] - 5s 143us/step - loss: 0.6646 - accuracy: 0.6082 - val_loss: 0.6645 - val_accuracy: 0.6072\n",
      "Epoch 90/100\n",
      "38316/38316 [==============================] - 5s 142us/step - loss: 0.6641 - accuracy: 0.6078 - val_loss: 0.6649 - val_accuracy: 0.6094\n",
      "Epoch 91/100\n",
      "38316/38316 [==============================] - 6s 145us/step - loss: 0.6643 - accuracy: 0.6072 - val_loss: 0.6646 - val_accuracy: 0.6075\n",
      "Epoch 92/100\n",
      "38316/38316 [==============================] - 5s 142us/step - loss: 0.6642 - accuracy: 0.6076 - val_loss: 0.6678 - val_accuracy: 0.6033\n",
      "Epoch 93/100\n",
      "38316/38316 [==============================] - 5s 141us/step - loss: 0.6646 - accuracy: 0.6079 - val_loss: 0.6659 - val_accuracy: 0.6066\n",
      "Epoch 94/100\n",
      "38316/38316 [==============================] - 6s 146us/step - loss: 0.6651 - accuracy: 0.6076 - val_loss: 0.6654 - val_accuracy: 0.6051\n",
      "Epoch 95/100\n",
      "38316/38316 [==============================] - 5s 142us/step - loss: 0.6658 - accuracy: 0.6078 - val_loss: 0.6679 - val_accuracy: 0.6035\n",
      "Epoch 96/100\n",
      "38316/38316 [==============================] - 6s 144us/step - loss: 0.6646 - accuracy: 0.6086 - val_loss: 0.6661 - val_accuracy: 0.6038\n",
      "Epoch 97/100\n",
      "38316/38316 [==============================] - 6s 144us/step - loss: 0.6646 - accuracy: 0.6091 - val_loss: 0.6694 - val_accuracy: 0.6048\n",
      "Epoch 98/100\n",
      "38316/38316 [==============================] - 6s 144us/step - loss: 0.6647 - accuracy: 0.6091 - val_loss: 0.6650 - val_accuracy: 0.6059\n",
      "Epoch 99/100\n",
      "38316/38316 [==============================] - 6s 145us/step - loss: 0.6635 - accuracy: 0.6090 - val_loss: 0.6656 - val_accuracy: 0.6104\n",
      "Epoch 100/100\n",
      "38316/38316 [==============================] - 5s 142us/step - loss: 0.6648 - accuracy: 0.6061 - val_loss: 0.6660 - val_accuracy: 0.6053\n"
     ]
    }
   ],
   "source": [
    "history = new_model.fit([X_train_q1,X_train_q2],y_train,\n",
    "                        batch_size = 2000, \n",
    "                        epochs = 100, \n",
    "                        validation_data = ([X_valid_q1,X_valid_q2],y_valid),\n",
    "                        callbacks=[es])"
   ]
  },
  {
   "cell_type": "code",
   "execution_count": 269,
   "id": "69b9b491",
   "metadata": {},
   "outputs": [
    {
     "data": {
      "image/png": "[encoded data removed]",
      "text/plain": [
       "<Figure size 432x288 with 1 Axes>"
      ]
     },
     "metadata": {
      "needs_background": "light"
     },
     "output_type": "display_data"
    },
    {
     "data": {
      "image/png": "[encoded data removed]",
      "text/plain": [
       "<Figure size 432x288 with 1 Axes>"
      ]
     },
     "metadata": {
      "needs_background": "light"
     },
     "output_type": "display_data"
    }
   ],
   "source": [
    "import matplotlib.pyplot as plt\n",
    "acc = history.history['accuracy']\n",
    "val_acc = history.history['val_accuracy']\n",
    "loss = history.history['loss']\n",
    "val_loss = history.history['val_loss']\n",
    "epochs = range(1, len(acc) + 1)\n",
    "plt.plot(epochs, acc, 'bo', label='Training accuracy')\n",
    "plt.plot(epochs, val_acc, 'b', label='Validation acc')\n",
    "plt.title('Training and validation accuracy')\n",
    "plt.legend()\n",
    "plt.figure()\n",
    "plt.plot(epochs, loss, 'bo', label='Training loss')\n",
    "plt.plot(epochs, val_loss, 'b', label='Validation loss')\n",
    "plt.title('Training and validation loss')\n",
    "plt.legend()\n",
    "plt.show()\n"
   ]
  },
  {
   "cell_type": "code",
   "execution_count": 270,
   "id": "a1462dff",
   "metadata": {},
   "outputs": [],
   "source": [
    "y_pred = new_model.predict([X_test_q1, X_test_q2])"
   ]
  },
  {
   "cell_type": "code",
   "execution_count": 273,
   "id": "b288d6ca",
   "metadata": {},
   "outputs": [
    {
     "name": "stdout",
     "output_type": "stream",
     "text": [
      "50/50 [==============================] - 14s 273ms/step\n"
     ]
    }
   ],
   "source": [
    "test_loss, test_acc = new_model.evaluate(x=[X_test_q1, X_test_q2], y=test['is_duplicate'] ,steps=50)"
   ]
  },
  {
   "cell_type": "code",
   "execution_count": 271,
   "id": "ac4da8ff",
   "metadata": {},
   "outputs": [
    {
     "data": {
      "text/html": [
       "<div>\n",
       "<style scoped>\n",
       "    .dataframe tbody tr th:only-of-type {\n",
       "        vertical-align: middle;\n",
       "    }\n",
       "\n",
       "    .dataframe tbody tr th {\n",
       "        vertical-align: top;\n",
       "    }\n",
       "\n",
       "    .dataframe thead th {\n",
       "        text-align: right;\n",
       "    }\n",
       "</style>\n",
       "<table border=\"1\" class=\"dataframe\">\n",
       "  <thead>\n",
       "    <tr style=\"text-align: right;\">\n",
       "      <th></th>\n",
       "      <th>question1</th>\n",
       "      <th>question2</th>\n",
       "      <th>is_duplicate</th>\n",
       "      <th>q1</th>\n",
       "      <th>q2</th>\n",
       "    </tr>\n",
       "  </thead>\n",
       "  <tbody>\n",
       "    <tr>\n",
       "      <th>0</th>\n",
       "      <td>Is being white a privilege?</td>\n",
       "      <td>Does white privilege exist?</td>\n",
       "      <td>1</td>\n",
       "      <td>white privilege</td>\n",
       "      <td>white privilege exist</td>\n",
       "    </tr>\n",
       "    <tr>\n",
       "      <th>1</th>\n",
       "      <td>Does my boss like me romantically?</td>\n",
       "      <td>Does my boss secretly like me?</td>\n",
       "      <td>1</td>\n",
       "      <td>bos like romantically</td>\n",
       "      <td>bos secretly like</td>\n",
       "    </tr>\n",
       "    <tr>\n",
       "      <th>2</th>\n",
       "      <td>Can the 'last seen' status on viber be wrong?</td>\n",
       "      <td>I installed viber on samsung note 5, why my st...</td>\n",
       "      <td>0</td>\n",
       "      <td>last see status viber wrong</td>\n",
       "      <td>instal viber samsung note 5 status always appe...</td>\n",
       "    </tr>\n",
       "    <tr>\n",
       "      <th>3</th>\n",
       "      <td>Were US Marines tougher than elite German troo...</td>\n",
       "      <td>Were German soldiers in WW2 actually \"Nazis\"?</td>\n",
       "      <td>0</td>\n",
       "      <td>u marine tougher elite german troop ww2</td>\n",
       "      <td>german soldier ww2 actually nazi</td>\n",
       "    </tr>\n",
       "    <tr>\n",
       "      <th>4</th>\n",
       "      <td>What is foreign exchange earnings?</td>\n",
       "      <td>What is foreign exchange revenue?</td>\n",
       "      <td>1</td>\n",
       "      <td>foreign exchange earnings</td>\n",
       "      <td>foreign exchange revenue</td>\n",
       "    </tr>\n",
       "    <tr>\n",
       "      <th>...</th>\n",
       "      <td>...</td>\n",
       "      <td>...</td>\n",
       "      <td>...</td>\n",
       "      <td>...</td>\n",
       "      <td>...</td>\n",
       "    </tr>\n",
       "    <tr>\n",
       "      <th>11969</th>\n",
       "      <td>Why is the government abruptly banning the 500...</td>\n",
       "      <td>What do you think about decision by the Indian...</td>\n",
       "      <td>1</td>\n",
       "      <td>government abruptly ban 500 rupee 1000 rupee c...</td>\n",
       "      <td>think decision indian government demonetise 50...</td>\n",
       "    </tr>\n",
       "    <tr>\n",
       "      <th>11970</th>\n",
       "      <td>Why do folks ask questions on Quora that a Goo...</td>\n",
       "      <td>Why do some people ask questions on Quora that...</td>\n",
       "      <td>1</td>\n",
       "      <td>folk ask question quora google search could an...</td>\n",
       "      <td>people ask question quora could ask directly s...</td>\n",
       "    </tr>\n",
       "    <tr>\n",
       "      <th>11971</th>\n",
       "      <td>What is nuclear fission and nuclear fusion?</td>\n",
       "      <td>What is the difference between nuclear fusion ...</td>\n",
       "      <td>0</td>\n",
       "      <td>nuclear fission nuclear fusion</td>\n",
       "      <td>difference nuclear fusion nuclear fission</td>\n",
       "    </tr>\n",
       "    <tr>\n",
       "      <th>11972</th>\n",
       "      <td>What should I do to improve my tennis?</td>\n",
       "      <td>What is the best way to be good at tennis?</td>\n",
       "      <td>1</td>\n",
       "      <td>improve tennis</td>\n",
       "      <td>best way good tennis</td>\n",
       "    </tr>\n",
       "    <tr>\n",
       "      <th>11973</th>\n",
       "      <td>What is the best way to learn anything?</td>\n",
       "      <td>How do I learn anything?</td>\n",
       "      <td>1</td>\n",
       "      <td>best way learn anything</td>\n",
       "      <td>learn anything</td>\n",
       "    </tr>\n",
       "  </tbody>\n",
       "</table>\n",
       "<p>11974 rows × 5 columns</p>\n",
       "</div>"
      ],
      "text/plain": [
       "                                               question1  \\\n",
       "0                            Is being white a privilege?   \n",
       "1                     Does my boss like me romantically?   \n",
       "2          Can the 'last seen' status on viber be wrong?   \n",
       "3      Were US Marines tougher than elite German troo...   \n",
       "4                     What is foreign exchange earnings?   \n",
       "...                                                  ...   \n",
       "11969  Why is the government abruptly banning the 500...   \n",
       "11970  Why do folks ask questions on Quora that a Goo...   \n",
       "11971        What is nuclear fission and nuclear fusion?   \n",
       "11972             What should I do to improve my tennis?   \n",
       "11973            What is the best way to learn anything?   \n",
       "\n",
       "                                               question2  is_duplicate  \\\n",
       "0                            Does white privilege exist?             1   \n",
       "1                         Does my boss secretly like me?             1   \n",
       "2      I installed viber on samsung note 5, why my st...             0   \n",
       "3          Were German soldiers in WW2 actually \"Nazis\"?             0   \n",
       "4                      What is foreign exchange revenue?             1   \n",
       "...                                                  ...           ...   \n",
       "11969  What do you think about decision by the Indian...             1   \n",
       "11970  Why do some people ask questions on Quora that...             1   \n",
       "11971  What is the difference between nuclear fusion ...             0   \n",
       "11972         What is the best way to be good at tennis?             1   \n",
       "11973                           How do I learn anything?             1   \n",
       "\n",
       "                                                      q1  \\\n",
       "0                                        white privilege   \n",
       "1                                  bos like romantically   \n",
       "2                            last see status viber wrong   \n",
       "3                u marine tougher elite german troop ww2   \n",
       "4                              foreign exchange earnings   \n",
       "...                                                  ...   \n",
       "11969  government abruptly ban 500 rupee 1000 rupee c...   \n",
       "11970  folk ask question quora google search could an...   \n",
       "11971                     nuclear fission nuclear fusion   \n",
       "11972                                     improve tennis   \n",
       "11973                            best way learn anything   \n",
       "\n",
       "                                                      q2  \n",
       "0                                  white privilege exist  \n",
       "1                                      bos secretly like  \n",
       "2      instal viber samsung note 5 status always appe...  \n",
       "3                       german soldier ww2 actually nazi  \n",
       "4                               foreign exchange revenue  \n",
       "...                                                  ...  \n",
       "11969  think decision indian government demonetise 50...  \n",
       "11970  people ask question quora could ask directly s...  \n",
       "11971          difference nuclear fusion nuclear fission  \n",
       "11972                               best way good tennis  \n",
       "11973                                     learn anything  \n",
       "\n",
       "[11974 rows x 5 columns]"
      ]
     },
     "execution_count": 271,
     "metadata": {},
     "output_type": "execute_result"
    }
   ],
   "source": [
    "test"
   ]
  },
  {
   "cell_type": "code",
   "execution_count": 274,
   "id": "df54f0e7",
   "metadata": {},
   "outputs": [
    {
     "name": "stdout",
     "output_type": "stream",
     "text": [
      "[[0.16889517 0.31461617]\n",
      " [0.16890518 0.31819946]\n",
      " [0.29052988 0.18174501]\n",
      " ...\n",
      " [0.19950087 0.28382394]\n",
      " [0.17860173 0.30498153]\n",
      " [0.2118057  0.25671655]]\n"
     ]
    }
   ],
   "source": [
    "print(y_pred)"
   ]
  },
  {
   "cell_type": "code",
   "execution_count": 275,
   "id": "4be7faf8",
   "metadata": {},
   "outputs": [
    {
     "data": {
      "text/plain": [
       "array([1, 1, 0, 0, 1, 0, 1, 1, 1, 1], dtype=int64)"
      ]
     },
     "execution_count": 275,
     "metadata": {},
     "output_type": "execute_result"
    }
   ],
   "source": [
    "np.argmax(y_pred[:10], axis=-1)  "
   ]
  },
  {
   "cell_type": "code",
   "execution_count": 278,
   "id": "0468fbdb",
   "metadata": {},
   "outputs": [
    {
     "data": {
      "text/plain": [
       "0    1\n",
       "1    1\n",
       "2    0\n",
       "3    0\n",
       "4    1\n",
       "5    0\n",
       "6    1\n",
       "7    0\n",
       "8    1\n",
       "9    1\n",
       "Name: is_duplicate, dtype: int64"
      ]
     },
     "execution_count": 278,
     "metadata": {},
     "output_type": "execute_result"
    }
   ],
   "source": [
    "test['is_duplicate'][:10]"
   ]
  },
  {
   "cell_type": "code",
   "execution_count": 285,
   "id": "967a1b44",
   "metadata": {},
   "outputs": [
    {
     "name": "stdout",
     "output_type": "stream",
     "text": [
      "0.013311331272125243\n"
     ]
    }
   ],
   "source": [
    "print(test_loss)"
   ]
  },
  {
   "cell_type": "code",
   "execution_count": 282,
   "id": "7538e9cb",
   "metadata": {},
   "outputs": [],
   "source": [
    " from sklearn.metrics import mean_squared_error"
   ]
  },
  {
   "cell_type": "code",
   "execution_count": 284,
   "id": "8ad6c039",
   "metadata": {},
   "outputs": [
    {
     "data": {
      "text/plain": [
       "0.3939368632036078"
      ]
     },
     "execution_count": 284,
     "metadata": {},
     "output_type": "execute_result"
    }
   ],
   "source": [
    "mean_squared_error(test['is_duplicate'], np.argmax(y_pred, axis=-1)  )"
   ]
  },
  {
   "cell_type": "code",
   "execution_count": null,
   "id": "ea614de1",
   "metadata": {},
   "outputs": [],
   "source": []
  }
 ],
 "metadata": {
  "kernelspec": {
   "display_name": "Python 3",
   "language": "python",
   "name": "python3"
  },
  "language_info": {
   "codemirror_mode": {
    "name": "ipython",
    "version": 3
   },
   "file_extension": ".py",
   "mimetype": "text/x-python",
   "name": "python",
   "nbconvert_exporter": "python",
   "pygments_lexer": "ipython3",
   "version": "3.6.13"
  }
 },
 "nbformat": 4,
 "nbformat_minor": 5
}
